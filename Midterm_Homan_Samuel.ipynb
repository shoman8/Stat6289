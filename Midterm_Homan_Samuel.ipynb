{
  "nbformat": 4,
  "nbformat_minor": 0,
  "metadata": {
    "colab": {
      "name": "Midterm Deep Learning.ipynb",
      "provenance": [],
      "collapsed_sections": []
    },
    "kernelspec": {
      "name": "python3",
      "display_name": "Python 3"
    },
    "language_info": {
      "name": "python"
    },
    "widgets": {
      "application/vnd.jupyter.widget-state+json": {
        "8864ccabdcda46788a919c7e47bdf1bd": {
          "model_module": "@jupyter-widgets/controls",
          "model_name": "HBoxModel",
          "model_module_version": "1.5.0",
          "state": {
            "_dom_classes": [],
            "_model_module": "@jupyter-widgets/controls",
            "_model_module_version": "1.5.0",
            "_model_name": "HBoxModel",
            "_view_count": null,
            "_view_module": "@jupyter-widgets/controls",
            "_view_module_version": "1.5.0",
            "_view_name": "HBoxView",
            "box_style": "",
            "children": [
              "IPY_MODEL_321905f04e6a4b8ea93df51acabd1839",
              "IPY_MODEL_c71b61657cd94e8e8c8d7c96b4efd8b8",
              "IPY_MODEL_9d3f5fa874164e228f6fdf984028da99"
            ],
            "layout": "IPY_MODEL_329858acd0174673addb9de9573f3ed2"
          }
        },
        "321905f04e6a4b8ea93df51acabd1839": {
          "model_module": "@jupyter-widgets/controls",
          "model_name": "HTMLModel",
          "model_module_version": "1.5.0",
          "state": {
            "_dom_classes": [],
            "_model_module": "@jupyter-widgets/controls",
            "_model_module_version": "1.5.0",
            "_model_name": "HTMLModel",
            "_view_count": null,
            "_view_module": "@jupyter-widgets/controls",
            "_view_module_version": "1.5.0",
            "_view_name": "HTMLView",
            "description": "",
            "description_tooltip": null,
            "layout": "IPY_MODEL_ad1dcaca4dd94e07bdbabeb26572f87d",
            "placeholder": "​",
            "style": "IPY_MODEL_47e4610974494b63882a28820e748219",
            "value": ""
          }
        },
        "c71b61657cd94e8e8c8d7c96b4efd8b8": {
          "model_module": "@jupyter-widgets/controls",
          "model_name": "FloatProgressModel",
          "model_module_version": "1.5.0",
          "state": {
            "_dom_classes": [],
            "_model_module": "@jupyter-widgets/controls",
            "_model_module_version": "1.5.0",
            "_model_name": "FloatProgressModel",
            "_view_count": null,
            "_view_module": "@jupyter-widgets/controls",
            "_view_module_version": "1.5.0",
            "_view_name": "ProgressView",
            "bar_style": "success",
            "description": "",
            "description_tooltip": null,
            "layout": "IPY_MODEL_f0c2043bc0ae46c39388c575b2151c0c",
            "max": 169001437,
            "min": 0,
            "orientation": "horizontal",
            "style": "IPY_MODEL_cfb1784331c149549c3708a2ab592534",
            "value": 169001437
          }
        },
        "9d3f5fa874164e228f6fdf984028da99": {
          "model_module": "@jupyter-widgets/controls",
          "model_name": "HTMLModel",
          "model_module_version": "1.5.0",
          "state": {
            "_dom_classes": [],
            "_model_module": "@jupyter-widgets/controls",
            "_model_module_version": "1.5.0",
            "_model_name": "HTMLModel",
            "_view_count": null,
            "_view_module": "@jupyter-widgets/controls",
            "_view_module_version": "1.5.0",
            "_view_name": "HTMLView",
            "description": "",
            "description_tooltip": null,
            "layout": "IPY_MODEL_861a43311bc34fba84d30a73d6990fe8",
            "placeholder": "​",
            "style": "IPY_MODEL_48f927982dbc43d19a5faa601e0ee2c5",
            "value": " 169001984/? [00:04&lt;00:00, 40639026.98it/s]"
          }
        },
        "329858acd0174673addb9de9573f3ed2": {
          "model_module": "@jupyter-widgets/base",
          "model_name": "LayoutModel",
          "model_module_version": "1.2.0",
          "state": {
            "_model_module": "@jupyter-widgets/base",
            "_model_module_version": "1.2.0",
            "_model_name": "LayoutModel",
            "_view_count": null,
            "_view_module": "@jupyter-widgets/base",
            "_view_module_version": "1.2.0",
            "_view_name": "LayoutView",
            "align_content": null,
            "align_items": null,
            "align_self": null,
            "border": null,
            "bottom": null,
            "display": null,
            "flex": null,
            "flex_flow": null,
            "grid_area": null,
            "grid_auto_columns": null,
            "grid_auto_flow": null,
            "grid_auto_rows": null,
            "grid_column": null,
            "grid_gap": null,
            "grid_row": null,
            "grid_template_areas": null,
            "grid_template_columns": null,
            "grid_template_rows": null,
            "height": null,
            "justify_content": null,
            "justify_items": null,
            "left": null,
            "margin": null,
            "max_height": null,
            "max_width": null,
            "min_height": null,
            "min_width": null,
            "object_fit": null,
            "object_position": null,
            "order": null,
            "overflow": null,
            "overflow_x": null,
            "overflow_y": null,
            "padding": null,
            "right": null,
            "top": null,
            "visibility": null,
            "width": null
          }
        },
        "ad1dcaca4dd94e07bdbabeb26572f87d": {
          "model_module": "@jupyter-widgets/base",
          "model_name": "LayoutModel",
          "model_module_version": "1.2.0",
          "state": {
            "_model_module": "@jupyter-widgets/base",
            "_model_module_version": "1.2.0",
            "_model_name": "LayoutModel",
            "_view_count": null,
            "_view_module": "@jupyter-widgets/base",
            "_view_module_version": "1.2.0",
            "_view_name": "LayoutView",
            "align_content": null,
            "align_items": null,
            "align_self": null,
            "border": null,
            "bottom": null,
            "display": null,
            "flex": null,
            "flex_flow": null,
            "grid_area": null,
            "grid_auto_columns": null,
            "grid_auto_flow": null,
            "grid_auto_rows": null,
            "grid_column": null,
            "grid_gap": null,
            "grid_row": null,
            "grid_template_areas": null,
            "grid_template_columns": null,
            "grid_template_rows": null,
            "height": null,
            "justify_content": null,
            "justify_items": null,
            "left": null,
            "margin": null,
            "max_height": null,
            "max_width": null,
            "min_height": null,
            "min_width": null,
            "object_fit": null,
            "object_position": null,
            "order": null,
            "overflow": null,
            "overflow_x": null,
            "overflow_y": null,
            "padding": null,
            "right": null,
            "top": null,
            "visibility": null,
            "width": null
          }
        },
        "47e4610974494b63882a28820e748219": {
          "model_module": "@jupyter-widgets/controls",
          "model_name": "DescriptionStyleModel",
          "model_module_version": "1.5.0",
          "state": {
            "_model_module": "@jupyter-widgets/controls",
            "_model_module_version": "1.5.0",
            "_model_name": "DescriptionStyleModel",
            "_view_count": null,
            "_view_module": "@jupyter-widgets/base",
            "_view_module_version": "1.2.0",
            "_view_name": "StyleView",
            "description_width": ""
          }
        },
        "f0c2043bc0ae46c39388c575b2151c0c": {
          "model_module": "@jupyter-widgets/base",
          "model_name": "LayoutModel",
          "model_module_version": "1.2.0",
          "state": {
            "_model_module": "@jupyter-widgets/base",
            "_model_module_version": "1.2.0",
            "_model_name": "LayoutModel",
            "_view_count": null,
            "_view_module": "@jupyter-widgets/base",
            "_view_module_version": "1.2.0",
            "_view_name": "LayoutView",
            "align_content": null,
            "align_items": null,
            "align_self": null,
            "border": null,
            "bottom": null,
            "display": null,
            "flex": null,
            "flex_flow": null,
            "grid_area": null,
            "grid_auto_columns": null,
            "grid_auto_flow": null,
            "grid_auto_rows": null,
            "grid_column": null,
            "grid_gap": null,
            "grid_row": null,
            "grid_template_areas": null,
            "grid_template_columns": null,
            "grid_template_rows": null,
            "height": null,
            "justify_content": null,
            "justify_items": null,
            "left": null,
            "margin": null,
            "max_height": null,
            "max_width": null,
            "min_height": null,
            "min_width": null,
            "object_fit": null,
            "object_position": null,
            "order": null,
            "overflow": null,
            "overflow_x": null,
            "overflow_y": null,
            "padding": null,
            "right": null,
            "top": null,
            "visibility": null,
            "width": null
          }
        },
        "cfb1784331c149549c3708a2ab592534": {
          "model_module": "@jupyter-widgets/controls",
          "model_name": "ProgressStyleModel",
          "model_module_version": "1.5.0",
          "state": {
            "_model_module": "@jupyter-widgets/controls",
            "_model_module_version": "1.5.0",
            "_model_name": "ProgressStyleModel",
            "_view_count": null,
            "_view_module": "@jupyter-widgets/base",
            "_view_module_version": "1.2.0",
            "_view_name": "StyleView",
            "bar_color": null,
            "description_width": ""
          }
        },
        "861a43311bc34fba84d30a73d6990fe8": {
          "model_module": "@jupyter-widgets/base",
          "model_name": "LayoutModel",
          "model_module_version": "1.2.0",
          "state": {
            "_model_module": "@jupyter-widgets/base",
            "_model_module_version": "1.2.0",
            "_model_name": "LayoutModel",
            "_view_count": null,
            "_view_module": "@jupyter-widgets/base",
            "_view_module_version": "1.2.0",
            "_view_name": "LayoutView",
            "align_content": null,
            "align_items": null,
            "align_self": null,
            "border": null,
            "bottom": null,
            "display": null,
            "flex": null,
            "flex_flow": null,
            "grid_area": null,
            "grid_auto_columns": null,
            "grid_auto_flow": null,
            "grid_auto_rows": null,
            "grid_column": null,
            "grid_gap": null,
            "grid_row": null,
            "grid_template_areas": null,
            "grid_template_columns": null,
            "grid_template_rows": null,
            "height": null,
            "justify_content": null,
            "justify_items": null,
            "left": null,
            "margin": null,
            "max_height": null,
            "max_width": null,
            "min_height": null,
            "min_width": null,
            "object_fit": null,
            "object_position": null,
            "order": null,
            "overflow": null,
            "overflow_x": null,
            "overflow_y": null,
            "padding": null,
            "right": null,
            "top": null,
            "visibility": null,
            "width": null
          }
        },
        "48f927982dbc43d19a5faa601e0ee2c5": {
          "model_module": "@jupyter-widgets/controls",
          "model_name": "DescriptionStyleModel",
          "model_module_version": "1.5.0",
          "state": {
            "_model_module": "@jupyter-widgets/controls",
            "_model_module_version": "1.5.0",
            "_model_name": "DescriptionStyleModel",
            "_view_count": null,
            "_view_module": "@jupyter-widgets/base",
            "_view_module_version": "1.2.0",
            "_view_name": "StyleView",
            "description_width": ""
          }
        }
      }
    }
  },
  "cells": [
    {
      "cell_type": "markdown",
      "source": [
        "Github code link:\n",
        "https://github.com/shoman8/Stat6289"
      ],
      "metadata": {
        "id": "viBOuTeO27cT"
      }
    },
    {
      "cell_type": "code",
      "source": [
        "from google.colab import drive\n",
        "import sys\n",
        "import os\n",
        "\n",
        "# Mount Google Drive\n",
        "drive.mount('/content/drive')\n",
        "\n",
        "# Get the absolute path of the current folder\n",
        "abspath_curr = '/Users/samuelhoman/Documents/STAT6289'"
      ],
      "metadata": {
        "colab": {
          "base_uri": "https://localhost:8080/"
        },
        "id": "yO69YZmXhYl0",
        "outputId": "2e088728-376d-4f56-adfe-d8e2cbe6e3d8"
      },
      "execution_count": 1,
      "outputs": [
        {
          "output_type": "stream",
          "name": "stdout",
          "text": [
            "Mounted at /content/drive\n"
          ]
        }
      ]
    },
    {
      "cell_type": "code",
      "execution_count": 1,
      "metadata": {
        "id": "fXjycH-rWN13"
      },
      "outputs": [],
      "source": [
        "import os\n",
        "import torch\n",
        "import tarfile\n",
        "import torchvision\n",
        "import torchvision.transforms as transforms\n",
        "import matplotlib.pyplot as plt\n",
        "import numpy as np\n",
        "import torch.nn as nn\n",
        "import torch.nn.functional as F\n",
        "import torch.optim as optim\n",
        "from sklearn import datasets"
      ]
    },
    {
      "cell_type": "code",
      "source": [
        "transform = transforms.Compose(\n",
        "    [transforms.ToTensor(),\n",
        "     transforms.Normalize((0.5, 0.5, 0.5), (0.5, 0.5, 0.5))])\n",
        "\n",
        "batch_size = 4\n",
        "\n",
        "trainset = torchvision.datasets.CIFAR100(root='./data', train=True,\n",
        "                                        download=True, transform=transform)\n",
        "trainloader = torch.utils.data.DataLoader(trainset, batch_size=batch_size,\n",
        "                                          shuffle=True, num_workers=2)\n",
        "\n",
        "testset = torchvision.datasets.CIFAR100(root='./data', train=False,\n",
        "                                       download=True, transform=transform)\n",
        "testloader = torch.utils.data.DataLoader(testset, batch_size=batch_size,\n",
        "                                         shuffle=False, num_workers=2)\n",
        "\n",
        "superclasses = ('aquatic mammals', 'fish', 'flowers', 'food containers', 'fruit and vegetables', 'household electrical devices', \n",
        "           'household furniture', 'insects', 'large carnivores', 'large man-made outdoor things', 'large natural outdoor scenes', \n",
        "           'large omnivores and herbivores', 'medium-sized mammals', 'non-insect invertebrates', 'people', 'reptiles', 'small mammals', 'trees', 'vehicles 1', 'vehicles 2')\n",
        "\n",
        "classes = ('apples','aquarium fish','baby','bear','beaver','bed','bee','beetle','bicycle','bottles','bowls','boy','bridge','bus','butterfly','camel','cans','castle','caterpillar',\n",
        "           'cattle','chair','chimpanzee','clock','cloud','cockroach','computer keyboard','couch','crab','crocodile','cups','dinosaur','dolphin','elephant','flatfish','forest','fox',\n",
        "           'girl','hamster','house','kangaroo','lamp','lawn-mower','leopard','lion','lizard','lobster','man','maple','motorcycle','mountain','mouse','mushrooms','oak','oranges','orchids',\n",
        "           'otter','palm','pears','pickup truck','pine','plain','plates','poppies','porcupine','possum','rabbit','raccoon','ray','road','rocket','roses','sea','seal','shark','shrew','skunk',\n",
        "           'skyscraper','snail','snake','spider','squirrel','streetcar','sunflowers','sweet peppers','table','tank','telephone','television','tiger','tractor','train','trout','tulips','turtle',\n",
        "           'wardrobe','whale','willow','wolf','woman','worm')"
      ],
      "metadata": {
        "colab": {
          "base_uri": "https://localhost:8080/",
          "height": 100,
          "referenced_widgets": [
            "8864ccabdcda46788a919c7e47bdf1bd",
            "321905f04e6a4b8ea93df51acabd1839",
            "c71b61657cd94e8e8c8d7c96b4efd8b8",
            "9d3f5fa874164e228f6fdf984028da99",
            "329858acd0174673addb9de9573f3ed2",
            "ad1dcaca4dd94e07bdbabeb26572f87d",
            "47e4610974494b63882a28820e748219",
            "f0c2043bc0ae46c39388c575b2151c0c",
            "cfb1784331c149549c3708a2ab592534",
            "861a43311bc34fba84d30a73d6990fe8",
            "48f927982dbc43d19a5faa601e0ee2c5"
          ]
        },
        "id": "jhudi1ILW0lM",
        "outputId": "f0f1ecfb-7baf-47c8-b2b1-abde4795f5ab"
      },
      "execution_count": 2,
      "outputs": [
        {
          "output_type": "stream",
          "name": "stdout",
          "text": [
            "Downloading https://www.cs.toronto.edu/~kriz/cifar-100-python.tar.gz to ./data/cifar-100-python.tar.gz\n"
          ]
        },
        {
          "output_type": "display_data",
          "data": {
            "text/plain": [
              "  0%|          | 0/169001437 [00:00<?, ?it/s]"
            ],
            "application/vnd.jupyter.widget-view+json": {
              "version_major": 2,
              "version_minor": 0,
              "model_id": "8864ccabdcda46788a919c7e47bdf1bd"
            }
          },
          "metadata": {}
        },
        {
          "output_type": "stream",
          "name": "stdout",
          "text": [
            "Extracting ./data/cifar-100-python.tar.gz to ./data\n",
            "Files already downloaded and verified\n"
          ]
        }
      ]
    },
    {
      "cell_type": "code",
      "source": [
        "# functions to show an image\n",
        "\n",
        "def imshow(img):\n",
        "    img = img / 2 + 0.5     # unnormalize\n",
        "    npimg = img.numpy()\n",
        "    plt.imshow(np.transpose(npimg, (1, 2, 0)))\n",
        "    plt.show()\n",
        "\n",
        "\n",
        "# get some random training images\n",
        "dataiter = iter(trainloader)\n",
        "images, labels = dataiter.next()\n",
        "print(images.size())\n",
        "\n",
        "# show images\n",
        "imshow(torchvision.utils.make_grid(images))\n",
        "# print labels\n",
        "print(' '.join(f'{classes[labels[j]]:5s}' for j in range(batch_size)))"
      ],
      "metadata": {
        "colab": {
          "base_uri": "https://localhost:8080/",
          "height": 172
        },
        "id": "3R9pS5p7XlrN",
        "outputId": "733e5e3f-c26f-4998-ab04-9d785102ba1b"
      },
      "execution_count": 3,
      "outputs": [
        {
          "output_type": "stream",
          "name": "stdout",
          "text": [
            "torch.Size([4, 3, 32, 32])\n"
          ]
        },
        {
          "output_type": "display_data",
          "data": {
            "text/plain": [
              "<Figure size 432x288 with 1 Axes>"
            ],
            "image/png": "[encoded data removed]"
          },
          "metadata": {
            "needs_background": "light"
          }
        },
        {
          "output_type": "stream",
          "name": "stdout",
          "text": [
            "apples rocket otter castle\n"
          ]
        }
      ]
    },
    {
      "cell_type": "code",
      "source": [
        "# Create a function that returns the accuracy of the model on the testing dataset.\n",
        "def accuracy_function(model):\n",
        "\n",
        "  correct = 0\n",
        "  total = 0\n",
        "  # since we're not training, we don't need to calculate the gradients for our outputs\n",
        "  with torch.no_grad():\n",
        "      for data in testloader:\n",
        "          images, labels = data\n",
        "          # calculate outputs by running images through the network\n",
        "          outputs = model(images)\n",
        "          # the class with the highest energy is what we choose as prediction\n",
        "          _, predicted = torch.max(outputs.data, 1)\n",
        "          total += labels.size(0)\n",
        "          correct += (predicted == labels).sum().item()\n",
        "\n",
        "  print(f'Accuracy of the network on the 10000 test images: {100 * correct // total} %')\n",
        "  accuracy = (100* correct // total)\n",
        "  return accuracy"
      ],
      "metadata": {
        "id": "vesvz0XSICaG"
      },
      "execution_count": 4,
      "outputs": []
    },
    {
      "cell_type": "code",
      "source": [
        "# Relu CNN with no Drop Out\n",
        "class Net1(nn.Module):\n",
        "    def __init__(self):\n",
        "        super().__init__()\n",
        "        self.conv1 = nn.Conv2d(3, 6, 5)\n",
        "        self.pool = nn.MaxPool2d(2, 2)\n",
        "        self.conv2 = nn.Conv2d(6, 16, 5)\n",
        "        self.fc1 = nn.Linear(16 * 5 * 5, 120)\n",
        "        self.fc2 = nn.Linear(120, 84)\n",
        "        self.fc3 = nn.Linear(84, 100)\n",
        "\n",
        "    def forward(self, x):\n",
        "        x = self.pool(F.relu(self.conv1(x)))\n",
        "        x = self.pool(F.relu(self.conv2(x)))      \n",
        "        x = torch.flatten(x, 1) # flatten all dimensions except batch\n",
        "        x = F.relu(self.fc1(x))\n",
        "        x = F.relu(self.fc2(x))\n",
        "        x = self.fc3(x)\n",
        "        return x\n",
        "\n",
        "\n",
        "net1 = Net1()"
      ],
      "metadata": {
        "id": "V5yaoLzwSNrq"
      },
      "execution_count": 5,
      "outputs": []
    },
    {
      "cell_type": "code",
      "source": [
        "# ReLU\n",
        "  # Learning Rate 0.001\n",
        "net1_1 = net1\n",
        "net1_2 = net1\n",
        "net1_3 = net1\n",
        "net1_4 = net1\n",
        "\n",
        "  # Learning Rate 0.01\n",
        "net2_1 = net1\n",
        "net2_2 = net1\n",
        "net2_3 = net1\n",
        "net2_4 = net1"
      ],
      "metadata": {
        "id": "HKMS8qMvtRPx"
      },
      "execution_count": 6,
      "outputs": []
    },
    {
      "cell_type": "code",
      "source": [
        "# Sigmoid CNN\n",
        "class Net2(nn.Module):\n",
        "    def __init__(self):\n",
        "        super().__init__()\n",
        "        self.conv1 = nn.Conv2d(3, 6, 5)\n",
        "        self.pool = nn.MaxPool2d(2, 2)\n",
        "        self.conv2 = nn.Conv2d(6, 16, 5)\n",
        "        self.fc1 = nn.Linear(16 * 5 * 5, 120)\n",
        "        self.fc2 = nn.Linear(120, 84)\n",
        "        self.fc3 = nn.Linear(84, 100)\n",
        "\n",
        "    def forward(self, x):\n",
        "        x = self.pool(torch.sigmoid(self.conv1(x)))\n",
        "        x = self.pool(torch.sigmoid(self.conv2(x)))\n",
        "        x = torch.flatten(x, 1) # flatten all dimensions except batch\n",
        "        x = torch.sigmoid(self.fc1(x))\n",
        "        x = torch.sigmoid(self.fc2(x))\n",
        "        x = self.fc3(x)\n",
        "        return x\n",
        "\n",
        "\n",
        "net2 = Net2()"
      ],
      "metadata": {
        "id": "4gkhotxySuT_"
      },
      "execution_count": 7,
      "outputs": []
    },
    {
      "cell_type": "code",
      "source": [
        "# Sigmoid Models\n",
        "  # Learning Rate 0.001\n",
        "net3_1 = net2\n",
        "net3_2 = net2\n",
        "net3_3 = net2\n",
        "net3_4 = net2\n",
        "\n",
        "  # Learning Rate 0.01\n",
        "net4_1 = net2\n",
        "net4_2 = net2\n",
        "net4_3 = net2\n",
        "net4_4 = net2"
      ],
      "metadata": {
        "id": "gNR52IS7tgQ_"
      },
      "execution_count": 8,
      "outputs": []
    },
    {
      "cell_type": "code",
      "source": [
        "# Define Criterion\n",
        "criterion = nn.CrossEntropyLoss()\n",
        "\n",
        "# Define optimizers\n",
        "# No dropout or data augmentation\n",
        "\n",
        "# Four different optimizers: \n",
        "# 1. Stochastic Gradient Descent (SGD)\n",
        "# 2. Averaged Stochastic Gradient Descent (ASGD)\n",
        "# 3. Adam\n",
        "# 4. Adam Max\n",
        "\n",
        "# Two different learning rates:\n",
        "# 1. 0.001\n",
        "# 2. 0.01\n",
        "\n",
        "# Two different activation functions:\n",
        "# 1. ReLU\n",
        "# 2. Sigmoid\n",
        "\n",
        "# ReLU\n",
        "  # Learning Rate 0.001\n",
        "optimizer_net1_1 = optim.SGD(net1_1.parameters(), lr=0.001, momentum=0.9)\n",
        "optimizer_net1_2 = optim.ASGD(net1_2.parameters(), lr=0.001)\n",
        "optimizer_net1_3 = optim.Adam(net1_3.parameters(), lr=0.001)\n",
        "optimizer_net1_4 = optim.Adamax(net1_4.parameters(), lr=0.001)\n",
        "\n",
        "  # Learning Rate 0.01\n",
        "optimizer_net2_1 = optim.SGD(net2_1.parameters(), lr=0.01, momentum=0.9)\n",
        "optimizer_net2_2 = optim.ASGD(net2_2.parameters(), lr=0.01)\n",
        "optimizer_net2_3 = optim.Adam(net2_3.parameters(), lr=0.01)\n",
        "optimizer_net2_4 = optim.Adamax(net2_4.parameters(), lr=0.01)\n",
        "\n",
        "# Sigmoid\n",
        "  # Learning Rate 0.001\n",
        "optimizer_net3_1 = optim.SGD(net3_1.parameters(), lr=0.001, momentum=0.9)\n",
        "optimizer_net3_2 = optim.ASGD(net3_2.parameters(), lr=0.001)\n",
        "optimizer_net3_3 = optim.Adam(net3_3.parameters(), lr=0.001)\n",
        "optimizer_net3_4 = optim.Adamax(net3_4.parameters(), lr=0.001)\n",
        "\n",
        "  # Learning Rate 0.01\n",
        "optimizer_net4_1 = optim.SGD(net4_1.parameters(), lr=0.01, momentum=0.9)\n",
        "optimizer_net4_2 = optim.ASGD(net4_2.parameters(), lr=0.01)\n",
        "optimizer_net4_3 = optim.Adam(net4_3.parameters(), lr=0.01)\n",
        "optimizer_net4_4 = optim.Adamax(net4_4.parameters(), lr=0.01)\n",
        "\n"
      ],
      "metadata": {
        "id": "qxnvakFlSZXC"
      },
      "execution_count": 9,
      "outputs": []
    },
    {
      "cell_type": "code",
      "source": [
        "# Train Model 1_1 - Relu CNN Activation Function - SGD Optimizer - Learning Rate 0.001\n",
        "list_net1_1 = []\n",
        "\n",
        "for epoch in range(20):  # loop over the dataset multiple times\n",
        "\n",
        "    running_loss = 0.0\n",
        "    for i, data in enumerate(trainloader, 0):\n",
        "        # get the inputs; data is a list of [inputs, labels]\n",
        "        inputs, labels = data\n",
        "\n",
        "        # zero the parameter gradients\n",
        "        optimizer_net1_1.zero_grad()\n",
        "\n",
        "        # forward + backward + optimize\n",
        "        outputs = net1_1(inputs)\n",
        "        loss = criterion(outputs, labels)\n",
        "        loss.backward()\n",
        "        optimizer_net1_1.step()\n",
        "\n",
        "        # print statistics\n",
        "        running_loss += loss.item()\n",
        "        if i % 2000 == 1999:    # print every 2000 mini-batches\n",
        "            #print(f'[{epoch + 1}, {i + 1:5d}] loss: {running_loss / 2000:.3f}')\n",
        "            current_loss = round(running_loss / 2000, 3)\n",
        "            running_loss = 0.0\n",
        "\n",
        "    accuracy = accuracy_function(net1_1)\n",
        "\n",
        "    list_net1_1.append([\"Net1_1\", epoch+1, accuracy, current_loss])\n",
        "\n",
        "\n",
        "print('Finished Training')\n",
        "list_net1_1"
      ],
      "metadata": {
        "colab": {
          "base_uri": "https://localhost:8080/"
        },
        "id": "AeCMLJ8RSS1G",
        "outputId": "2fb20a5e-7fa9-4e20-b28b-93840ccb0e4b"
      },
      "execution_count": 11,
      "outputs": [
        {
          "output_type": "stream",
          "name": "stdout",
          "text": [
            "Accuracy of the network on the 10000 test images: 12 %\n",
            "Accuracy of the network on the 10000 test images: 16 %\n",
            "Accuracy of the network on the 10000 test images: 20 %\n",
            "Accuracy of the network on the 10000 test images: 22 %\n",
            "Accuracy of the network on the 10000 test images: 24 %\n",
            "Accuracy of the network on the 10000 test images: 24 %\n",
            "Accuracy of the network on the 10000 test images: 23 %\n",
            "Accuracy of the network on the 10000 test images: 26 %\n",
            "Accuracy of the network on the 10000 test images: 24 %\n",
            "Accuracy of the network on the 10000 test images: 25 %\n",
            "Accuracy of the network on the 10000 test images: 24 %\n",
            "Accuracy of the network on the 10000 test images: 25 %\n",
            "Accuracy of the network on the 10000 test images: 25 %\n",
            "Accuracy of the network on the 10000 test images: 25 %\n",
            "Accuracy of the network on the 10000 test images: 25 %\n",
            "Accuracy of the network on the 10000 test images: 25 %\n",
            "Accuracy of the network on the 10000 test images: 26 %\n",
            "Accuracy of the network on the 10000 test images: 24 %\n",
            "Accuracy of the network on the 10000 test images: 23 %\n",
            "Accuracy of the network on the 10000 test images: 23 %\n",
            "Finished Training\n"
          ]
        },
        {
          "output_type": "execute_result",
          "data": {
            "text/plain": [
              "[['Net1_1', 1, 12, 3.796],\n",
              " ['Net1_1', 2, 16, 3.463],\n",
              " ['Net1_1', 3, 20, 3.261],\n",
              " ['Net1_1', 4, 22, 3.143],\n",
              " ['Net1_1', 5, 24, 3.043],\n",
              " ['Net1_1', 6, 24, 2.974],\n",
              " ['Net1_1', 7, 23, 2.936],\n",
              " ['Net1_1', 8, 26, 2.851],\n",
              " ['Net1_1', 9, 24, 2.839],\n",
              " ['Net1_1', 10, 25, 2.79],\n",
              " ['Net1_1', 11, 24, 2.772],\n",
              " ['Net1_1', 12, 25, 2.768],\n",
              " ['Net1_1', 13, 25, 2.716],\n",
              " ['Net1_1', 14, 25, 2.67],\n",
              " ['Net1_1', 15, 25, 2.678],\n",
              " ['Net1_1', 16, 25, 2.668],\n",
              " ['Net1_1', 17, 26, 2.602],\n",
              " ['Net1_1', 18, 24, 2.63],\n",
              " ['Net1_1', 19, 23, 2.586],\n",
              " ['Net1_1', 20, 23, 2.594]]"
            ]
          },
          "metadata": {},
          "execution_count": 11
        }
      ]
    },
    {
      "cell_type": "code",
      "source": [
        "# Train Model 1_2 - Relu CNN Activation Function - ASGD Optimizer - Learning Rate 0.001\n",
        "list_net1_2 = []\n",
        "\n",
        "for epoch in range(20):  # loop over the dataset multiple times\n",
        "\n",
        "    running_loss = 0.0\n",
        "    for i, data in enumerate(trainloader, 0):\n",
        "        # get the inputs; data is a list of [inputs, labels]\n",
        "        inputs, labels = data\n",
        "\n",
        "        # zero the parameter gradients\n",
        "        optimizer_net1_2.zero_grad()\n",
        "\n",
        "        # forward + backward + optimize\n",
        "        outputs = net1_2(inputs)\n",
        "        loss = criterion(outputs, labels)\n",
        "        loss.backward()\n",
        "        optimizer_net1_2.step()\n",
        "\n",
        "        # print statistics\n",
        "        running_loss += loss.item()\n",
        "        if i % 2000 == 1999:    # print every 2000 mini-batches\n",
        "            #print(f'[{epoch + 1}, {i + 1:5d}] loss: {running_loss / 2000:.3f}')\n",
        "            current_loss = round(running_loss / 2000, 3)\n",
        "            running_loss = 0.0\n",
        "\n",
        "    accuracy = accuracy_function(net1_2)\n",
        "\n",
        "    list_net1_2.append([\"Net1_2\", epoch+1, accuracy, current_loss])\n",
        "\n",
        "print('Finished Training')\n",
        "list_net1_2"
      ],
      "metadata": {
        "colab": {
          "base_uri": "https://localhost:8080/"
        },
        "id": "eUneVmm82iOF",
        "outputId": "f95a5196-1202-463a-e7ad-a3032699ac17"
      },
      "execution_count": 35,
      "outputs": [
        {
          "output_type": "stream",
          "name": "stdout",
          "text": [
            "Accuracy of the network on the 10000 test images: 11 %\n",
            "Accuracy of the network on the 10000 test images: 13 %\n",
            "Accuracy of the network on the 10000 test images: 15 %\n",
            "Accuracy of the network on the 10000 test images: 17 %\n",
            "Accuracy of the network on the 10000 test images: 19 %\n",
            "Accuracy of the network on the 10000 test images: 19 %\n",
            "Accuracy of the network on the 10000 test images: 20 %\n",
            "Accuracy of the network on the 10000 test images: 21 %\n",
            "Accuracy of the network on the 10000 test images: 23 %\n",
            "Accuracy of the network on the 10000 test images: 24 %\n",
            "Accuracy of the network on the 10000 test images: 24 %\n",
            "Accuracy of the network on the 10000 test images: 25 %\n",
            "Accuracy of the network on the 10000 test images: 26 %\n",
            "Accuracy of the network on the 10000 test images: 26 %\n",
            "Accuracy of the network on the 10000 test images: 27 %\n",
            "Accuracy of the network on the 10000 test images: 26 %\n",
            "Accuracy of the network on the 10000 test images: 28 %\n",
            "Accuracy of the network on the 10000 test images: 28 %\n",
            "Accuracy of the network on the 10000 test images: 29 %\n",
            "Accuracy of the network on the 10000 test images: 30 %\n",
            "Finished Training\n"
          ]
        },
        {
          "output_type": "execute_result",
          "data": {
            "text/plain": [
              "[['Net1_2', 1, 11, 3.864],\n",
              " ['Net1_2', 2, 13, 3.711],\n",
              " ['Net1_2', 3, 15, 3.599],\n",
              " ['Net1_2', 4, 17, 3.502],\n",
              " ['Net1_2', 5, 19, 3.401],\n",
              " ['Net1_2', 6, 19, 3.314],\n",
              " ['Net1_2', 7, 20, 3.25],\n",
              " ['Net1_2', 8, 21, 3.172],\n",
              " ['Net1_2', 9, 23, 3.131],\n",
              " ['Net1_2', 10, 24, 3.05],\n",
              " ['Net1_2', 11, 24, 3.003],\n",
              " ['Net1_2', 12, 25, 2.927],\n",
              " ['Net1_2', 13, 26, 2.895],\n",
              " ['Net1_2', 14, 26, 2.882],\n",
              " ['Net1_2', 15, 27, 2.845],\n",
              " ['Net1_2', 16, 26, 2.784],\n",
              " ['Net1_2', 17, 28, 2.748],\n",
              " ['Net1_2', 18, 28, 2.708],\n",
              " ['Net1_2', 19, 29, 2.689],\n",
              " ['Net1_2', 20, 30, 2.634]]"
            ]
          },
          "metadata": {},
          "execution_count": 35
        }
      ]
    },
    {
      "cell_type": "code",
      "source": [
        "# Train Model 1_3 - Relu CNN Activation Function - Adam Optimizer - Learning Rate 0.001\n",
        "list_net1_3 = []\n",
        "\n",
        "for epoch in range(20):  # loop over the dataset multiple times\n",
        "\n",
        "    running_loss = 0.0\n",
        "    for i, data in enumerate(trainloader, 0):\n",
        "        # get the inputs; data is a list of [inputs, labels]\n",
        "        inputs, labels = data\n",
        "\n",
        "        # zero the parameter gradients\n",
        "        optimizer_net1_3.zero_grad()\n",
        "\n",
        "        # forward + backward + optimize\n",
        "        outputs = net1_3(inputs)\n",
        "        loss = criterion(outputs, labels)\n",
        "        loss.backward()\n",
        "        optimizer_net1_3.step()\n",
        "\n",
        "        # print statistics\n",
        "        running_loss += loss.item()\n",
        "        if i % 2000 == 1999:    # print every 2000 mini-batches\n",
        "            #print(f'[{epoch + 1}, {i + 1:5d}] loss: {running_loss / 2000:.3f}')\n",
        "            current_loss = round(running_loss / 2000, 3)\n",
        "            running_loss = 0.0\n",
        "\n",
        "    accuracy = accuracy_function(net1_3)\n",
        "\n",
        "    list_net1_3.append([\"Net1_3\", epoch+1, accuracy, current_loss])\n",
        "\n",
        "print('Finished Training')\n",
        "list_net1_3"
      ],
      "metadata": {
        "colab": {
          "base_uri": "https://localhost:8080/"
        },
        "id": "HLkOWoXz2iay",
        "outputId": "4b85a7ef-7b68-4a86-8c84-3f7564b01d8f"
      },
      "execution_count": 36,
      "outputs": [
        {
          "output_type": "stream",
          "name": "stdout",
          "text": [
            "Accuracy of the network on the 10000 test images: 20 %\n",
            "Accuracy of the network on the 10000 test images: 24 %\n",
            "Accuracy of the network on the 10000 test images: 23 %\n",
            "Accuracy of the network on the 10000 test images: 25 %\n",
            "Accuracy of the network on the 10000 test images: 26 %\n",
            "Accuracy of the network on the 10000 test images: 24 %\n",
            "Accuracy of the network on the 10000 test images: 25 %\n",
            "Accuracy of the network on the 10000 test images: 23 %\n",
            "Accuracy of the network on the 10000 test images: 23 %\n",
            "Accuracy of the network on the 10000 test images: 23 %\n",
            "Accuracy of the network on the 10000 test images: 24 %\n",
            "Accuracy of the network on the 10000 test images: 23 %\n",
            "Accuracy of the network on the 10000 test images: 25 %\n",
            "Accuracy of the network on the 10000 test images: 24 %\n",
            "Accuracy of the network on the 10000 test images: 24 %\n",
            "Accuracy of the network on the 10000 test images: 22 %\n",
            "Accuracy of the network on the 10000 test images: 23 %\n",
            "Accuracy of the network on the 10000 test images: 21 %\n",
            "Accuracy of the network on the 10000 test images: 24 %\n",
            "Accuracy of the network on the 10000 test images: 23 %\n",
            "Finished Training\n"
          ]
        },
        {
          "output_type": "execute_result",
          "data": {
            "text/plain": [
              "[['Net1_3', 1, 20, 3.27],\n",
              " ['Net1_3', 2, 24, 3.099],\n",
              " ['Net1_3', 3, 23, 3.056],\n",
              " ['Net1_3', 4, 25, 2.97],\n",
              " ['Net1_3', 5, 26, 2.906],\n",
              " ['Net1_3', 6, 24, 2.886],\n",
              " ['Net1_3', 7, 25, 2.856],\n",
              " ['Net1_3', 8, 23, 2.857],\n",
              " ['Net1_3', 9, 23, 2.803],\n",
              " ['Net1_3', 10, 23, 2.76],\n",
              " ['Net1_3', 11, 24, 2.75],\n",
              " ['Net1_3', 12, 23, 2.756],\n",
              " ['Net1_3', 13, 25, 2.74],\n",
              " ['Net1_3', 14, 24, 2.725],\n",
              " ['Net1_3', 15, 24, 2.758],\n",
              " ['Net1_3', 16, 22, 2.751],\n",
              " ['Net1_3', 17, 23, 2.763],\n",
              " ['Net1_3', 18, 21, 2.732],\n",
              " ['Net1_3', 19, 24, 2.738],\n",
              " ['Net1_3', 20, 23, 2.726]]"
            ]
          },
          "metadata": {},
          "execution_count": 36
        }
      ]
    },
    {
      "cell_type": "code",
      "source": [
        "# Train Model 1_4 - Relu CNN Activation Function - Adamax Optimizer - Learning Rate 0.001\n",
        "list_net1_4 = []\n",
        "\n",
        "for epoch in range(20):  # loop over the dataset multiple times\n",
        "\n",
        "    running_loss = 0.0\n",
        "    for i, data in enumerate(trainloader, 0):\n",
        "        # get the inputs; data is a list of [inputs, labels]\n",
        "        inputs, labels = data\n",
        "\n",
        "        # zero the parameter gradients\n",
        "        optimizer_net1_4.zero_grad()\n",
        "\n",
        "        # forward + backward + optimize\n",
        "        outputs = net1_4(inputs)\n",
        "        loss = criterion(outputs, labels)\n",
        "        loss.backward()\n",
        "        optimizer_net1_4.step()\n",
        "\n",
        "        # print statistics\n",
        "        running_loss += loss.item()\n",
        "        if i % 2000 == 1999:    # print every 2000 mini-batches\n",
        "            #print(f'[{epoch + 1}, {i + 1:5d}] loss: {running_loss / 2000:.3f}')\n",
        "            current_loss = round(running_loss / 2000, 3)\n",
        "            running_loss = 0.0\n",
        "\n",
        "    accuracy = accuracy_function(net1_4)\n",
        "\n",
        "    list_net1_4.append([\"Net1_4\", epoch+1, accuracy, current_loss])\n",
        "\n",
        "print('Finished Training')\n",
        "list_net1_4"
      ],
      "metadata": {
        "colab": {
          "base_uri": "https://localhost:8080/"
        },
        "id": "IGxc0TGG2iju",
        "outputId": "c240c347-2dd3-40ac-a087-8c9082e93f9a"
      },
      "execution_count": 37,
      "outputs": [
        {
          "output_type": "stream",
          "name": "stdout",
          "text": [
            "Accuracy of the network on the 10000 test images: 26 %\n",
            "Accuracy of the network on the 10000 test images: 26 %\n",
            "Accuracy of the network on the 10000 test images: 26 %\n",
            "Accuracy of the network on the 10000 test images: 26 %\n",
            "Accuracy of the network on the 10000 test images: 26 %\n",
            "Accuracy of the network on the 10000 test images: 26 %\n",
            "Accuracy of the network on the 10000 test images: 26 %\n",
            "Accuracy of the network on the 10000 test images: 26 %\n",
            "Accuracy of the network on the 10000 test images: 26 %\n",
            "Accuracy of the network on the 10000 test images: 26 %\n",
            "Accuracy of the network on the 10000 test images: 26 %\n",
            "Accuracy of the network on the 10000 test images: 26 %\n",
            "Accuracy of the network on the 10000 test images: 26 %\n",
            "Accuracy of the network on the 10000 test images: 26 %\n",
            "Accuracy of the network on the 10000 test images: 26 %\n",
            "Accuracy of the network on the 10000 test images: 26 %\n",
            "Accuracy of the network on the 10000 test images: 25 %\n",
            "Accuracy of the network on the 10000 test images: 26 %\n",
            "Accuracy of the network on the 10000 test images: 25 %\n",
            "Accuracy of the network on the 10000 test images: 26 %\n",
            "Finished Training\n"
          ]
        },
        {
          "output_type": "execute_result",
          "data": {
            "text/plain": [
              "[['Net1_4', 1, 26, 2.207],\n",
              " ['Net1_4', 2, 26, 2.11],\n",
              " ['Net1_4', 3, 26, 2.036],\n",
              " ['Net1_4', 4, 26, 2.022],\n",
              " ['Net1_4', 5, 26, 2.006],\n",
              " ['Net1_4', 6, 26, 1.998],\n",
              " ['Net1_4', 7, 26, 1.982],\n",
              " ['Net1_4', 8, 26, 1.958],\n",
              " ['Net1_4', 9, 26, 1.94],\n",
              " ['Net1_4', 10, 26, 1.921],\n",
              " ['Net1_4', 11, 26, 1.916],\n",
              " ['Net1_4', 12, 26, 1.884],\n",
              " ['Net1_4', 13, 26, 1.876],\n",
              " ['Net1_4', 14, 26, 1.868],\n",
              " ['Net1_4', 15, 26, 1.851],\n",
              " ['Net1_4', 16, 26, 1.836],\n",
              " ['Net1_4', 17, 25, 1.847],\n",
              " ['Net1_4', 18, 26, 1.779],\n",
              " ['Net1_4', 19, 25, 1.839],\n",
              " ['Net1_4', 20, 26, 1.802]]"
            ]
          },
          "metadata": {},
          "execution_count": 37
        }
      ]
    },
    {
      "cell_type": "code",
      "source": [
        "# Train Model 2_1 - Relu CNN Activation Function - SGD Optimizer - Learning Rate 0.01\n",
        "list_net2_1 = []\n",
        "\n",
        "for epoch in range(20):  # loop over the dataset multiple times\n",
        "\n",
        "    running_loss = 0.0\n",
        "    for i, data in enumerate(trainloader, 0):\n",
        "        # get the inputs; data is a list of [inputs, labels]\n",
        "        inputs, labels = data\n",
        "\n",
        "        # zero the parameter gradients\n",
        "        optimizer_net2_1.zero_grad()\n",
        "\n",
        "        # forward + backward + optimize\n",
        "        outputs = net2_1(inputs)\n",
        "        loss = criterion(outputs, labels)\n",
        "        loss.backward()\n",
        "        optimizer_net2_1.step()\n",
        "\n",
        "        # print statistics\n",
        "        running_loss += loss.item()\n",
        "        if i % 2000 == 1999:    # print every 2000 mini-batches\n",
        "            #print(f'[{epoch + 1}, {i + 1:5d}] loss: {running_loss / 2000:.3f}')\n",
        "            current_loss = round(running_loss / 2000, 3)\n",
        "            running_loss = 0.0\n",
        "\n",
        "    accuracy = accuracy_function(net2_1)\n",
        "\n",
        "    list_net2_1.append([\"Net2_1\", epoch+1, accuracy, current_loss])\n",
        "\n",
        "print('Finished Training')\n",
        "list_net2_1"
      ],
      "metadata": {
        "colab": {
          "base_uri": "https://localhost:8080/"
        },
        "id": "l4qkAQFv2iq3",
        "outputId": "311022f5-4826-4e9f-b3a0-a82f807714d5"
      },
      "execution_count": null,
      "outputs": [
        {
          "output_type": "stream",
          "name": "stdout",
          "text": [
            "Accuracy of the network on the 10000 test images: 1 %\n",
            "Accuracy of the network on the 10000 test images: 1 %\n",
            "Accuracy of the network on the 10000 test images: 1 %\n",
            "Accuracy of the network on the 10000 test images: 1 %\n",
            "Accuracy of the network on the 10000 test images: 1 %\n",
            "Accuracy of the network on the 10000 test images: 1 %\n",
            "Accuracy of the network on the 10000 test images: 1 %\n",
            "Accuracy of the network on the 10000 test images: 1 %\n",
            "Accuracy of the network on the 10000 test images: 1 %\n",
            "Accuracy of the network on the 10000 test images: 1 %\n",
            "Accuracy of the network on the 10000 test images: 1 %\n",
            "Accuracy of the network on the 10000 test images: 1 %\n",
            "Accuracy of the network on the 10000 test images: 1 %\n",
            "Accuracy of the network on the 10000 test images: 1 %\n",
            "Accuracy of the network on the 10000 test images: 1 %\n",
            "Accuracy of the network on the 10000 test images: 1 %\n",
            "Accuracy of the network on the 10000 test images: 1 %\n",
            "Accuracy of the network on the 10000 test images: 1 %\n",
            "Accuracy of the network on the 10000 test images: 1 %\n"
          ]
        }
      ]
    },
    {
      "cell_type": "code",
      "source": [
        "list_net2_1"
      ],
      "metadata": {
        "colab": {
          "base_uri": "https://localhost:8080/"
        },
        "id": "eFSf33m6UtNr",
        "outputId": "67536e80-da65-41d0-ae06-3460322278da"
      },
      "execution_count": 13,
      "outputs": [
        {
          "output_type": "execute_result",
          "data": {
            "text/plain": [
              "[['Net2_1', 1, 1, 4.612],\n",
              " ['Net2_1', 2, 1, 4.613],\n",
              " ['Net2_1', 3, 1, 4.598],\n",
              " ['Net2_1', 4, 1, 4.612],\n",
              " ['Net2_1', 5, 1, 4.613],\n",
              " ['Net2_1', 6, 1, 4.613],\n",
              " ['Net2_1', 7, 1, 4.613],\n",
              " ['Net2_1', 8, 1, 4.612],\n",
              " ['Net2_1', 9, 1, 4.612],\n",
              " ['Net2_1', 10, 1, 4.613],\n",
              " ['Net2_1', 11, 1, 4.611],\n",
              " ['Net2_1', 12, 1, 4.612],\n",
              " ['Net2_1', 13, 1, 4.612],\n",
              " ['Net2_1', 14, 1, 4.613],\n",
              " ['Net2_1', 15, 1, 4.612],\n",
              " ['Net2_1', 16, 1, 4.612],\n",
              " ['Net2_1', 17, 1, 4.612],\n",
              " ['Net2_1', 18, 1, 4.612],\n",
              " ['Net2_1', 19, 1, 4.611],\n",
              " ['Net2_1', 20, 1, 4.613]]"
            ]
          },
          "metadata": {},
          "execution_count": 13
        }
      ]
    },
    {
      "cell_type": "code",
      "source": [
        "# Train Model 2_2 - Relu CNN Activation Function - ASGD Optimizer - Learning Rate 0.01\n",
        "list_net2_2 = []\n",
        "\n",
        "for epoch in range(20):  # loop over the dataset multiple times\n",
        "\n",
        "    running_loss = 0.0\n",
        "    for i, data in enumerate(trainloader, 0):\n",
        "        # get the inputs; data is a list of [inputs, labels]\n",
        "        inputs, labels = data\n",
        "\n",
        "        # zero the parameter gradients\n",
        "        optimizer_net2_2.zero_grad()\n",
        "\n",
        "        # forward + backward + optimize\n",
        "        outputs = net2_2(inputs)\n",
        "        loss = criterion(outputs, labels)\n",
        "        loss.backward()\n",
        "        optimizer_net2_2.step()\n",
        "\n",
        "        # print statistics\n",
        "        running_loss += loss.item()\n",
        "        if i % 2000 == 1999:    # print every 2000 mini-batches\n",
        "            #print(f'[{epoch + 1}, {i + 1:5d}] loss: {running_loss / 2000:.3f}')\n",
        "            current_loss = round(running_loss / 2000, 3)\n",
        "            running_loss = 0.0\n",
        "\n",
        "    accuracy = accuracy_function(net2_2)\n",
        "\n",
        "    list_net2_2.append([\"Net2_2\", epoch+1, accuracy, current_loss])\n",
        "\n",
        "print('Finished Training')\n",
        "list_net2_2"
      ],
      "metadata": {
        "colab": {
          "base_uri": "https://localhost:8080/"
        },
        "id": "VIoFz0XQ2ixj",
        "outputId": "6c168b29-95c8-4b70-f058-c681124b027f"
      },
      "execution_count": 18,
      "outputs": [
        {
          "output_type": "stream",
          "name": "stdout",
          "text": [
            "Accuracy of the network on the 10000 test images: 1 %\n",
            "Accuracy of the network on the 10000 test images: 1 %\n",
            "Accuracy of the network on the 10000 test images: 1 %\n",
            "Accuracy of the network on the 10000 test images: 1 %\n",
            "Accuracy of the network on the 10000 test images: 1 %\n",
            "Accuracy of the network on the 10000 test images: 1 %\n",
            "Accuracy of the network on the 10000 test images: 1 %\n",
            "Accuracy of the network on the 10000 test images: 1 %\n",
            "Accuracy of the network on the 10000 test images: 1 %\n",
            "Accuracy of the network on the 10000 test images: 1 %\n",
            "Accuracy of the network on the 10000 test images: 1 %\n",
            "Accuracy of the network on the 10000 test images: 1 %\n",
            "Accuracy of the network on the 10000 test images: 1 %\n",
            "Accuracy of the network on the 10000 test images: 1 %\n",
            "Accuracy of the network on the 10000 test images: 1 %\n",
            "Accuracy of the network on the 10000 test images: 1 %\n",
            "Accuracy of the network on the 10000 test images: 1 %\n",
            "Accuracy of the network on the 10000 test images: 1 %\n",
            "Accuracy of the network on the 10000 test images: 1 %\n",
            "Accuracy of the network on the 10000 test images: 1 %\n",
            "Finished Training\n"
          ]
        },
        {
          "output_type": "execute_result",
          "data": {
            "text/plain": [
              "[['Net2_2', 1, 1, 4.607],\n",
              " ['Net2_2', 2, 1, 4.607],\n",
              " ['Net2_2', 3, 1, 4.607],\n",
              " ['Net2_2', 4, 1, 4.606],\n",
              " ['Net2_2', 5, 1, 4.607],\n",
              " ['Net2_2', 6, 1, 4.607],\n",
              " ['Net2_2', 7, 1, 4.607],\n",
              " ['Net2_2', 8, 1, 4.606],\n",
              " ['Net2_2', 9, 1, 4.607],\n",
              " ['Net2_2', 10, 1, 4.606],\n",
              " ['Net2_2', 11, 1, 4.607],\n",
              " ['Net2_2', 12, 1, 4.606],\n",
              " ['Net2_2', 13, 1, 4.606],\n",
              " ['Net2_2', 14, 1, 4.606],\n",
              " ['Net2_2', 15, 1, 4.607],\n",
              " ['Net2_2', 16, 1, 4.606],\n",
              " ['Net2_2', 17, 1, 4.606],\n",
              " ['Net2_2', 18, 1, 4.606],\n",
              " ['Net2_2', 19, 1, 4.606],\n",
              " ['Net2_2', 20, 1, 4.606]]"
            ]
          },
          "metadata": {},
          "execution_count": 18
        }
      ]
    },
    {
      "cell_type": "code",
      "source": [
        "# Train Model 2_3 - Relu CNN Activation Function - Adam Optimizer - Learning Rate 0.01\n",
        "list_net2_3 = []\n",
        "\n",
        "for epoch in range(20):  # loop over the dataset multiple times\n",
        "\n",
        "    running_loss = 0.0\n",
        "    for i, data in enumerate(trainloader, 0):\n",
        "        # get the inputs; data is a list of [inputs, labels]\n",
        "        inputs, labels = data\n",
        "\n",
        "        # zero the parameter gradients\n",
        "        optimizer_net2_3.zero_grad()\n",
        "\n",
        "        # forward + backward + optimize\n",
        "        outputs = net2_3(inputs)\n",
        "        loss = criterion(outputs, labels)\n",
        "        loss.backward()\n",
        "        optimizer_net2_3.step()\n",
        "\n",
        "        # print statistics\n",
        "        running_loss += loss.item()\n",
        "        if i % 2000 == 1999:    # print every 2000 mini-batches\n",
        "            #print(f'[{epoch + 1}, {i + 1:5d}] loss: {running_loss / 2000:.3f}')\n",
        "            current_loss = round(running_loss / 2000, 3)\n",
        "            running_loss = 0.0\n",
        "\n",
        "    accuracy = accuracy_function(net2_3)\n",
        "\n",
        "    list_net2_3.append([\"Net2_3\", epoch+1, accuracy, current_loss])\n",
        "\n",
        "print('Finished Training')\n",
        "list_net2_3"
      ],
      "metadata": {
        "colab": {
          "base_uri": "https://localhost:8080/"
        },
        "id": "jWH-J9iN2i33",
        "outputId": "90ae0782-7864-4f6b-bf84-55d36d34341f"
      },
      "execution_count": 20,
      "outputs": [
        {
          "output_type": "stream",
          "name": "stdout",
          "text": [
            "Accuracy of the network on the 10000 test images: 1 %\n",
            "Accuracy of the network on the 10000 test images: 1 %\n",
            "Accuracy of the network on the 10000 test images: 1 %\n",
            "Accuracy of the network on the 10000 test images: 1 %\n",
            "Accuracy of the network on the 10000 test images: 1 %\n",
            "Accuracy of the network on the 10000 test images: 1 %\n",
            "Accuracy of the network on the 10000 test images: 1 %\n",
            "Accuracy of the network on the 10000 test images: 1 %\n",
            "Accuracy of the network on the 10000 test images: 1 %\n",
            "Accuracy of the network on the 10000 test images: 1 %\n",
            "Accuracy of the network on the 10000 test images: 1 %\n",
            "Accuracy of the network on the 10000 test images: 1 %\n",
            "Accuracy of the network on the 10000 test images: 1 %\n",
            "Accuracy of the network on the 10000 test images: 1 %\n",
            "Accuracy of the network on the 10000 test images: 1 %\n",
            "Accuracy of the network on the 10000 test images: 1 %\n",
            "Accuracy of the network on the 10000 test images: 1 %\n",
            "Accuracy of the network on the 10000 test images: 1 %\n",
            "Accuracy of the network on the 10000 test images: 1 %\n",
            "Accuracy of the network on the 10000 test images: 1 %\n",
            "Finished Training\n"
          ]
        },
        {
          "output_type": "execute_result",
          "data": {
            "text/plain": [
              "[['Net2_3', 1, 1, 4.618],\n",
              " ['Net2_3', 2, 1, 4.619],\n",
              " ['Net2_3', 3, 1, 4.62],\n",
              " ['Net2_3', 4, 1, 4.62],\n",
              " ['Net2_3', 5, 1, 4.617],\n",
              " ['Net2_3', 6, 1, 4.619],\n",
              " ['Net2_3', 7, 1, 4.618],\n",
              " ['Net2_3', 8, 1, 4.619],\n",
              " ['Net2_3', 9, 1, 4.618],\n",
              " ['Net2_3', 10, 1, 4.619],\n",
              " ['Net2_3', 11, 1, 4.619],\n",
              " ['Net2_3', 12, 1, 4.62],\n",
              " ['Net2_3', 13, 1, 4.618],\n",
              " ['Net2_3', 14, 1, 4.62],\n",
              " ['Net2_3', 15, 1, 4.617],\n",
              " ['Net2_3', 16, 1, 4.619],\n",
              " ['Net2_3', 17, 1, 4.619],\n",
              " ['Net2_3', 18, 1, 4.618],\n",
              " ['Net2_3', 19, 1, 4.617],\n",
              " ['Net2_3', 20, 1, 4.619]]"
            ]
          },
          "metadata": {},
          "execution_count": 20
        }
      ]
    },
    {
      "cell_type": "code",
      "source": [
        "# Train Model 2_4 - Relu CNN Activation Function - Adamax Optimizer - Learning Rate 0.01\n",
        "list_net2_4 = []\n",
        "\n",
        "for epoch in range(20):  # loop over the dataset multiple times\n",
        "\n",
        "    running_loss = 0.0\n",
        "    for i, data in enumerate(trainloader, 0):\n",
        "        # get the inputs; data is a list of [inputs, labels]\n",
        "        inputs, labels = data\n",
        "\n",
        "        # zero the parameter gradients\n",
        "        optimizer_net2_4.zero_grad()\n",
        "\n",
        "        # forward + backward + optimize\n",
        "        outputs = net2_4(inputs)\n",
        "        loss = criterion(outputs, labels)\n",
        "        loss.backward()\n",
        "        optimizer_net2_4.step()\n",
        "\n",
        "        # print statistics\n",
        "        running_loss += loss.item()\n",
        "        if i % 2000 == 1999:    # print every 2000 mini-batches\n",
        "            #print(f'[{epoch + 1}, {i + 1:5d}] loss: {running_loss / 2000:.3f}')\n",
        "            current_loss = round(running_loss / 2000, 3)\n",
        "            running_loss = 0.0\n",
        "\n",
        "    accuracy = accuracy_function(net2_4)\n",
        "\n",
        "    list_net2_4.append([\"Net2_4\", epoch+1, accuracy, current_loss])\n",
        "\n",
        "print('Finished Training')\n",
        "list_net2_4"
      ],
      "metadata": {
        "colab": {
          "base_uri": "https://localhost:8080/"
        },
        "id": "DqxzBbgA2i-Q",
        "outputId": "47e370df-4d61-46b4-9261-50b30178ec71"
      },
      "execution_count": 21,
      "outputs": [
        {
          "output_type": "stream",
          "name": "stdout",
          "text": [
            "Accuracy of the network on the 10000 test images: 1 %\n",
            "Accuracy of the network on the 10000 test images: 1 %\n",
            "Accuracy of the network on the 10000 test images: 1 %\n",
            "Accuracy of the network on the 10000 test images: 1 %\n",
            "Accuracy of the network on the 10000 test images: 1 %\n",
            "Accuracy of the network on the 10000 test images: 1 %\n",
            "Accuracy of the network on the 10000 test images: 1 %\n",
            "Accuracy of the network on the 10000 test images: 1 %\n",
            "Accuracy of the network on the 10000 test images: 1 %\n",
            "Accuracy of the network on the 10000 test images: 1 %\n",
            "Accuracy of the network on the 10000 test images: 1 %\n",
            "Accuracy of the network on the 10000 test images: 1 %\n",
            "Accuracy of the network on the 10000 test images: 1 %\n",
            "Accuracy of the network on the 10000 test images: 1 %\n",
            "Accuracy of the network on the 10000 test images: 1 %\n",
            "Accuracy of the network on the 10000 test images: 1 %\n",
            "Accuracy of the network on the 10000 test images: 1 %\n",
            "Accuracy of the network on the 10000 test images: 1 %\n",
            "Accuracy of the network on the 10000 test images: 1 %\n",
            "Accuracy of the network on the 10000 test images: 1 %\n",
            "Finished Training\n"
          ]
        },
        {
          "output_type": "execute_result",
          "data": {
            "text/plain": [
              "[['Net2_4', 1, 1, 4.609],\n",
              " ['Net2_4', 2, 1, 4.608],\n",
              " ['Net2_4', 3, 1, 4.608],\n",
              " ['Net2_4', 4, 1, 4.608],\n",
              " ['Net2_4', 5, 1, 4.609],\n",
              " ['Net2_4', 6, 1, 4.608],\n",
              " ['Net2_4', 7, 1, 4.609],\n",
              " ['Net2_4', 8, 1, 4.609],\n",
              " ['Net2_4', 9, 1, 4.608],\n",
              " ['Net2_4', 10, 1, 4.609],\n",
              " ['Net2_4', 11, 1, 4.609],\n",
              " ['Net2_4', 12, 1, 4.608],\n",
              " ['Net2_4', 13, 1, 4.609],\n",
              " ['Net2_4', 14, 1, 4.609],\n",
              " ['Net2_4', 15, 1, 4.609],\n",
              " ['Net2_4', 16, 1, 4.608],\n",
              " ['Net2_4', 17, 1, 4.609],\n",
              " ['Net2_4', 18, 1, 4.609],\n",
              " ['Net2_4', 19, 1, 4.608],\n",
              " ['Net2_4', 20, 1, 4.608]]"
            ]
          },
          "metadata": {},
          "execution_count": 21
        }
      ]
    },
    {
      "cell_type": "code",
      "source": [
        "# Train Model 3_1 - Sigmoid Activation Function - SGD Optimizer - Learning Rate 0.001\n",
        "list_net3_1 = []\n",
        "for epoch in range(20):  # loop over the dataset multiple times\n",
        "\n",
        "    running_loss = 0.0\n",
        "    for i, data in enumerate(trainloader, 0):\n",
        "        # get the inputs; data is a list of [inputs, labels]\n",
        "        inputs, labels = data\n",
        "\n",
        "        # zero the parameter gradients\n",
        "        optimizer_net3_1.zero_grad()\n",
        "\n",
        "        # forward + backward + optimize\n",
        "        outputs = net3_1(inputs)\n",
        "        loss = criterion(outputs, labels)\n",
        "        loss.backward()\n",
        "        optimizer_net3_1.step()\n",
        "\n",
        "        # print statistics\n",
        "        running_loss += loss.item()\n",
        "        if i % 2000 == 1999:    # print every 2000 mini-batches\n",
        "            #print(f'[{epoch + 1}, {i + 1:5d}] loss: {running_loss / 2000:.3f}')\n",
        "            current_loss = round(running_loss / 2000, 3)\n",
        "            running_loss = 0.0\n",
        "\n",
        "    accuracy = accuracy_function(net3_1)\n",
        "\n",
        "    list_net3_1.append([\"Net3_1\", epoch+1, accuracy, current_loss])\n",
        "\n",
        "print('Finished Training')\n",
        "list_net3_1"
      ],
      "metadata": {
        "colab": {
          "base_uri": "https://localhost:8080/"
        },
        "id": "IiRSpfQHTGbc",
        "outputId": "c7f2ea5c-1d70-4438-c681-d8a02c033d18"
      },
      "execution_count": 12,
      "outputs": [
        {
          "output_type": "stream",
          "name": "stdout",
          "text": [
            "Accuracy of the network on the 10000 test images: 1 %\n",
            "Accuracy of the network on the 10000 test images: 1 %\n",
            "Accuracy of the network on the 10000 test images: 1 %\n",
            "Accuracy of the network on the 10000 test images: 1 %\n",
            "Accuracy of the network on the 10000 test images: 1 %\n",
            "Accuracy of the network on the 10000 test images: 1 %\n",
            "Accuracy of the network on the 10000 test images: 1 %\n",
            "Accuracy of the network on the 10000 test images: 1 %\n",
            "Accuracy of the network on the 10000 test images: 1 %\n",
            "Accuracy of the network on the 10000 test images: 1 %\n",
            "Accuracy of the network on the 10000 test images: 1 %\n",
            "Accuracy of the network on the 10000 test images: 1 %\n",
            "Accuracy of the network on the 10000 test images: 1 %\n",
            "Accuracy of the network on the 10000 test images: 1 %\n",
            "Accuracy of the network on the 10000 test images: 1 %\n",
            "Accuracy of the network on the 10000 test images: 1 %\n",
            "Accuracy of the network on the 10000 test images: 1 %\n",
            "Accuracy of the network on the 10000 test images: 1 %\n",
            "Accuracy of the network on the 10000 test images: 0 %\n",
            "Accuracy of the network on the 10000 test images: 1 %\n",
            "Finished Training\n"
          ]
        },
        {
          "output_type": "execute_result",
          "data": {
            "text/plain": [
              "[['Net3_1', 1, 1, 4.613],\n",
              " ['Net3_1', 2, 1, 4.611],\n",
              " ['Net3_1', 3, 1, 4.609],\n",
              " ['Net3_1', 4, 1, 4.608],\n",
              " ['Net3_1', 5, 1, 4.607],\n",
              " ['Net3_1', 6, 1, 4.607],\n",
              " ['Net3_1', 7, 1, 4.607],\n",
              " ['Net3_1', 8, 1, 4.607],\n",
              " ['Net3_1', 9, 1, 4.607],\n",
              " ['Net3_1', 10, 1, 4.607],\n",
              " ['Net3_1', 11, 1, 4.607],\n",
              " ['Net3_1', 12, 1, 4.607],\n",
              " ['Net3_1', 13, 1, 4.607],\n",
              " ['Net3_1', 14, 1, 4.607],\n",
              " ['Net3_1', 15, 1, 4.606],\n",
              " ['Net3_1', 16, 1, 4.606],\n",
              " ['Net3_1', 17, 1, 4.606],\n",
              " ['Net3_1', 18, 1, 4.606],\n",
              " ['Net3_1', 19, 0, 4.605],\n",
              " ['Net3_1', 20, 1, 4.604]]"
            ]
          },
          "metadata": {},
          "execution_count": 12
        }
      ]
    },
    {
      "cell_type": "code",
      "source": [
        "# Train Model 3_2 - Sigmoid Activation Function - ASGD Optimizer - Learning Rate 0.001\n",
        "list_net3_2 = []\n",
        "for epoch in range(20):  # loop over the dataset multiple times\n",
        "\n",
        "    running_loss = 0.0\n",
        "    for i, data in enumerate(trainloader, 0):\n",
        "        # get the inputs; data is a list of [inputs, labels]\n",
        "        inputs, labels = data\n",
        "\n",
        "        # zero the parameter gradients\n",
        "        optimizer_net3_2.zero_grad()\n",
        "\n",
        "        # forward + backward + optimize\n",
        "        outputs = net3_2(inputs)\n",
        "        loss = criterion(outputs, labels)\n",
        "        loss.backward()\n",
        "        optimizer_net3_2.step()\n",
        "\n",
        "        # print statistics\n",
        "        running_loss += loss.item()\n",
        "        if i % 2000 == 1999:    # print every 2000 mini-batches\n",
        "            #print(f'[{epoch + 1}, {i + 1:5d}] loss: {running_loss / 2000:.3f}')\n",
        "            current_loss = round(running_loss / 2000, 3)\n",
        "            running_loss = 0.0\n",
        "\n",
        "    accuracy = accuracy_function(net3_2)\n",
        "\n",
        "    list_net3_2.append([\"Net3_2\", epoch+1, accuracy, current_loss])\n",
        "\n",
        "print('Finished Training')\n",
        "list_net3_2"
      ],
      "metadata": {
        "colab": {
          "base_uri": "https://localhost:8080/"
        },
        "id": "8oCzTKfM_zaU",
        "outputId": "e0e87381-6cb2-4732-bb38-88bdc6f11cd9"
      },
      "execution_count": 13,
      "outputs": [
        {
          "output_type": "stream",
          "name": "stdout",
          "text": [
            "Accuracy of the network on the 10000 test images: 1 %\n",
            "Accuracy of the network on the 10000 test images: 1 %\n",
            "Accuracy of the network on the 10000 test images: 1 %\n",
            "Accuracy of the network on the 10000 test images: 1 %\n",
            "Accuracy of the network on the 10000 test images: 1 %\n",
            "Accuracy of the network on the 10000 test images: 1 %\n",
            "Accuracy of the network on the 10000 test images: 1 %\n",
            "Accuracy of the network on the 10000 test images: 1 %\n",
            "Accuracy of the network on the 10000 test images: 0 %\n",
            "Accuracy of the network on the 10000 test images: 1 %\n",
            "Accuracy of the network on the 10000 test images: 0 %\n",
            "Accuracy of the network on the 10000 test images: 0 %\n",
            "Accuracy of the network on the 10000 test images: 0 %\n",
            "Accuracy of the network on the 10000 test images: 1 %\n",
            "Accuracy of the network on the 10000 test images: 1 %\n",
            "Accuracy of the network on the 10000 test images: 1 %\n",
            "Accuracy of the network on the 10000 test images: 0 %\n",
            "Accuracy of the network on the 10000 test images: 0 %\n",
            "Accuracy of the network on the 10000 test images: 1 %\n",
            "Accuracy of the network on the 10000 test images: 1 %\n",
            "Finished Training\n"
          ]
        },
        {
          "output_type": "execute_result",
          "data": {
            "text/plain": [
              "[['Net3_2', 1, 1, 4.602],\n",
              " ['Net3_2', 2, 1, 4.602],\n",
              " ['Net3_2', 3, 1, 4.602],\n",
              " ['Net3_2', 4, 1, 4.601],\n",
              " ['Net3_2', 5, 1, 4.6],\n",
              " ['Net3_2', 6, 1, 4.6],\n",
              " ['Net3_2', 7, 1, 4.6],\n",
              " ['Net3_2', 8, 1, 4.599],\n",
              " ['Net3_2', 9, 0, 4.598],\n",
              " ['Net3_2', 10, 1, 4.597],\n",
              " ['Net3_2', 11, 0, 4.596],\n",
              " ['Net3_2', 12, 0, 4.595],\n",
              " ['Net3_2', 13, 0, 4.594],\n",
              " ['Net3_2', 14, 1, 4.594],\n",
              " ['Net3_2', 15, 1, 4.59],\n",
              " ['Net3_2', 16, 1, 4.588],\n",
              " ['Net3_2', 17, 0, 4.586],\n",
              " ['Net3_2', 18, 0, 4.582],\n",
              " ['Net3_2', 19, 1, 4.58],\n",
              " ['Net3_2', 20, 1, 4.572]]"
            ]
          },
          "metadata": {},
          "execution_count": 13
        }
      ]
    },
    {
      "cell_type": "code",
      "source": [
        "# Train Model 3_3 - Sigmoid Activation Function - Adam Optimizer - Learning Rate 0.001\n",
        "list_net3_3 = []\n",
        "for epoch in range(20):  # loop over the dataset multiple times\n",
        "\n",
        "    running_loss = 0.0\n",
        "    for i, data in enumerate(trainloader, 0):\n",
        "        # get the inputs; data is a list of [inputs, labels]\n",
        "        inputs, labels = data\n",
        "\n",
        "        # zero the parameter gradients\n",
        "        optimizer_net3_3.zero_grad()\n",
        "\n",
        "        # forward + backward + optimize\n",
        "        outputs = net3_3(inputs)\n",
        "        loss = criterion(outputs, labels)\n",
        "        loss.backward()\n",
        "        optimizer_net3_3.step()\n",
        "\n",
        "        # print statistics\n",
        "        running_loss += loss.item()\n",
        "        if i % 2000 == 1999:    # print every 2000 mini-batches\n",
        "            #print(f'[{epoch + 1}, {i + 1:5d}] loss: {running_loss / 2000:.3f}')\n",
        "            current_loss = round(running_loss / 2000, 3)\n",
        "            running_loss = 0.0\n",
        "\n",
        "    accuracy = accuracy_function(net3_3)\n",
        "\n",
        "    list_net3_3.append([\"Net3_3\", epoch+1, accuracy, current_loss])\n",
        "\n",
        "print('Finished Training')\n",
        "list_net3_3"
      ],
      "metadata": {
        "colab": {
          "base_uri": "https://localhost:8080/"
        },
        "id": "ba2PZOuw_zlh",
        "outputId": "331e7323-0b3d-4aad-8bc0-0099705b6120"
      },
      "execution_count": 14,
      "outputs": [
        {
          "output_type": "stream",
          "name": "stdout",
          "text": [
            "Accuracy of the network on the 10000 test images: 7 %\n",
            "Accuracy of the network on the 10000 test images: 12 %\n",
            "Accuracy of the network on the 10000 test images: 14 %\n",
            "Accuracy of the network on the 10000 test images: 17 %\n",
            "Accuracy of the network on the 10000 test images: 19 %\n",
            "Accuracy of the network on the 10000 test images: 20 %\n",
            "Accuracy of the network on the 10000 test images: 21 %\n",
            "Accuracy of the network on the 10000 test images: 23 %\n",
            "Accuracy of the network on the 10000 test images: 24 %\n",
            "Accuracy of the network on the 10000 test images: 25 %\n",
            "Accuracy of the network on the 10000 test images: 26 %\n",
            "Accuracy of the network on the 10000 test images: 25 %\n",
            "Accuracy of the network on the 10000 test images: 26 %\n",
            "Accuracy of the network on the 10000 test images: 26 %\n",
            "Accuracy of the network on the 10000 test images: 27 %\n",
            "Accuracy of the network on the 10000 test images: 28 %\n",
            "Accuracy of the network on the 10000 test images: 27 %\n",
            "Accuracy of the network on the 10000 test images: 27 %\n",
            "Accuracy of the network on the 10000 test images: 28 %\n",
            "Accuracy of the network on the 10000 test images: 28 %\n",
            "Finished Training\n"
          ]
        },
        {
          "output_type": "execute_result",
          "data": {
            "text/plain": [
              "[['Net3_3', 1, 7, 4.073],\n",
              " ['Net3_3', 2, 12, 3.779],\n",
              " ['Net3_3', 3, 14, 3.623],\n",
              " ['Net3_3', 4, 17, 3.461],\n",
              " ['Net3_3', 5, 19, 3.35],\n",
              " ['Net3_3', 6, 20, 3.247],\n",
              " ['Net3_3', 7, 21, 3.136],\n",
              " ['Net3_3', 8, 23, 3.041],\n",
              " ['Net3_3', 9, 24, 2.987],\n",
              " ['Net3_3', 10, 25, 2.932],\n",
              " ['Net3_3', 11, 26, 2.802],\n",
              " ['Net3_3', 12, 25, 2.772],\n",
              " ['Net3_3', 13, 26, 2.683],\n",
              " ['Net3_3', 14, 26, 2.659],\n",
              " ['Net3_3', 15, 27, 2.63],\n",
              " ['Net3_3', 16, 28, 2.601],\n",
              " ['Net3_3', 17, 27, 2.554],\n",
              " ['Net3_3', 18, 27, 2.537],\n",
              " ['Net3_3', 19, 28, 2.517],\n",
              " ['Net3_3', 20, 28, 2.466]]"
            ]
          },
          "metadata": {},
          "execution_count": 14
        }
      ]
    },
    {
      "cell_type": "code",
      "source": [
        "# Train Model 3_4 - Sigmoid Activation Function - Adamax Optimizer - Learning Rate 0.001\n",
        "list_net3_4 = []\n",
        "for epoch in range(20):  # loop over the dataset multiple times\n",
        "\n",
        "    running_loss = 0.0\n",
        "    for i, data in enumerate(trainloader, 0):\n",
        "        # get the inputs; data is a list of [inputs, labels]\n",
        "        inputs, labels = data\n",
        "\n",
        "        # zero the parameter gradients\n",
        "        optimizer_net3_4.zero_grad()\n",
        "\n",
        "        # forward + backward + optimize\n",
        "        outputs = net3_4(inputs)\n",
        "        loss = criterion(outputs, labels)\n",
        "        loss.backward()\n",
        "        optimizer_net3_4.step()\n",
        "\n",
        "        # print statistics\n",
        "        running_loss += loss.item()\n",
        "        if i % 2000 == 1999:    # print every 2000 mini-batches\n",
        "            #print(f'[{epoch + 1}, {i + 1:5d}] loss: {running_loss / 2000:.3f}')\n",
        "            current_loss = round(running_loss / 2000, 3)\n",
        "            running_loss = 0.0\n",
        "\n",
        "    accuracy = accuracy_function(net3_4)\n",
        "\n",
        "    list_net3_4.append([\"Net3_4\", epoch+1, accuracy, current_loss])\n",
        "\n",
        "print('Finished Training')\n",
        "list_net3_4"
      ],
      "metadata": {
        "colab": {
          "base_uri": "https://localhost:8080/"
        },
        "id": "O9rxqiDD_zu3",
        "outputId": "61435ead-68aa-461a-c6f8-148cdae04070"
      },
      "execution_count": 15,
      "outputs": [
        {
          "output_type": "stream",
          "name": "stdout",
          "text": [
            "Accuracy of the network on the 10000 test images: 29 %\n",
            "Accuracy of the network on the 10000 test images: 29 %\n",
            "Accuracy of the network on the 10000 test images: 29 %\n",
            "Accuracy of the network on the 10000 test images: 29 %\n",
            "Accuracy of the network on the 10000 test images: 29 %\n",
            "Accuracy of the network on the 10000 test images: 29 %\n",
            "Accuracy of the network on the 10000 test images: 29 %\n",
            "Accuracy of the network on the 10000 test images: 29 %\n",
            "Accuracy of the network on the 10000 test images: 29 %\n",
            "Accuracy of the network on the 10000 test images: 30 %\n",
            "Accuracy of the network on the 10000 test images: 29 %\n",
            "Accuracy of the network on the 10000 test images: 29 %\n",
            "Accuracy of the network on the 10000 test images: 29 %\n",
            "Accuracy of the network on the 10000 test images: 29 %\n",
            "Accuracy of the network on the 10000 test images: 29 %\n",
            "Accuracy of the network on the 10000 test images: 29 %\n",
            "Accuracy of the network on the 10000 test images: 29 %\n",
            "Accuracy of the network on the 10000 test images: 29 %\n",
            "Accuracy of the network on the 10000 test images: 29 %\n",
            "Accuracy of the network on the 10000 test images: 30 %\n",
            "Finished Training\n"
          ]
        },
        {
          "output_type": "execute_result",
          "data": {
            "text/plain": [
              "[['Net3_4', 1, 29, 2.245],\n",
              " ['Net3_4', 2, 29, 2.2],\n",
              " ['Net3_4', 3, 29, 2.202],\n",
              " ['Net3_4', 4, 29, 2.189],\n",
              " ['Net3_4', 5, 29, 2.17],\n",
              " ['Net3_4', 6, 29, 2.193],\n",
              " ['Net3_4', 7, 29, 2.153],\n",
              " ['Net3_4', 8, 29, 2.148],\n",
              " ['Net3_4', 9, 29, 2.132],\n",
              " ['Net3_4', 10, 30, 2.168],\n",
              " ['Net3_4', 11, 29, 2.115],\n",
              " ['Net3_4', 12, 29, 2.125],\n",
              " ['Net3_4', 13, 29, 2.103],\n",
              " ['Net3_4', 14, 29, 2.098],\n",
              " ['Net3_4', 15, 29, 2.094],\n",
              " ['Net3_4', 16, 29, 2.129],\n",
              " ['Net3_4', 17, 29, 2.09],\n",
              " ['Net3_4', 18, 29, 2.109],\n",
              " ['Net3_4', 19, 29, 2.111],\n",
              " ['Net3_4', 20, 30, 2.084]]"
            ]
          },
          "metadata": {},
          "execution_count": 15
        }
      ]
    },
    {
      "cell_type": "code",
      "source": [
        "# Train Model 4_1 - Sigmoid Activation Function - SGD Optimizer - Learning Rate 0.01\n",
        "list_net4_1 = []\n",
        "for epoch in range(20):  # loop over the dataset multiple times\n",
        "\n",
        "    running_loss = 0.0\n",
        "    for i, data in enumerate(trainloader, 0):\n",
        "        # get the inputs; data is a list of [inputs, labels]\n",
        "        inputs, labels = data\n",
        "\n",
        "        # zero the parameter gradients\n",
        "        optimizer_net4_1.zero_grad()\n",
        "\n",
        "        # forward + backward + optimize\n",
        "        outputs = net4_1(inputs)\n",
        "        loss = criterion(outputs, labels)\n",
        "        loss.backward()\n",
        "        optimizer_net4_1.step()\n",
        "\n",
        "        # print statistics\n",
        "        running_loss += loss.item()\n",
        "        if i % 2000 == 1999:    # print every 2000 mini-batches\n",
        "            #print(f'[{epoch + 1}, {i + 1:5d}] loss: {running_loss / 2000:.3f}')\n",
        "            current_loss = round(running_loss / 2000, 3)\n",
        "            running_loss = 0.0\n",
        "\n",
        "    accuracy = accuracy_function(net4_1)\n",
        "\n",
        "    list_net4_1.append([\"Net4_1\", epoch+1, accuracy, current_loss])\n",
        "\n",
        "print('Finished Training')\n",
        "list_net4_1"
      ],
      "metadata": {
        "colab": {
          "base_uri": "https://localhost:8080/"
        },
        "id": "8CiOwBoB_z1V",
        "outputId": "3334ca47-d730-433d-d3e5-03ec560174dc"
      },
      "execution_count": 25,
      "outputs": [
        {
          "output_type": "stream",
          "name": "stdout",
          "text": [
            "Accuracy of the network on the 10000 test images: 1 %\n",
            "Accuracy of the network on the 10000 test images: 1 %\n",
            "Accuracy of the network on the 10000 test images: 1 %\n",
            "Accuracy of the network on the 10000 test images: 1 %\n",
            "Accuracy of the network on the 10000 test images: 1 %\n",
            "Accuracy of the network on the 10000 test images: 1 %\n",
            "Accuracy of the network on the 10000 test images: 1 %\n",
            "Accuracy of the network on the 10000 test images: 1 %\n",
            "Accuracy of the network on the 10000 test images: 1 %\n",
            "Accuracy of the network on the 10000 test images: 1 %\n",
            "Accuracy of the network on the 10000 test images: 1 %\n",
            "Accuracy of the network on the 10000 test images: 3 %\n",
            "Accuracy of the network on the 10000 test images: 5 %\n",
            "Accuracy of the network on the 10000 test images: 9 %\n",
            "Accuracy of the network on the 10000 test images: 11 %\n",
            "Accuracy of the network on the 10000 test images: 16 %\n",
            "Accuracy of the network on the 10000 test images: 18 %\n",
            "Accuracy of the network on the 10000 test images: 20 %\n",
            "Accuracy of the network on the 10000 test images: 21 %\n",
            "Accuracy of the network on the 10000 test images: 22 %\n",
            "Finished Training\n"
          ]
        },
        {
          "output_type": "execute_result",
          "data": {
            "text/plain": [
              "[['Net4_1', 1, 1, 4.612],\n",
              " ['Net4_1', 2, 1, 4.613],\n",
              " ['Net4_1', 3, 1, 4.611],\n",
              " ['Net4_1', 4, 1, 4.612],\n",
              " ['Net4_1', 5, 1, 4.613],\n",
              " ['Net4_1', 6, 1, 4.613],\n",
              " ['Net4_1', 7, 1, 4.612],\n",
              " ['Net4_1', 8, 1, 4.611],\n",
              " ['Net4_1', 9, 1, 4.612],\n",
              " ['Net4_1', 10, 1, 4.612],\n",
              " ['Net4_1', 11, 1, 4.603],\n",
              " ['Net4_1', 12, 3, 4.322],\n",
              " ['Net4_1', 13, 5, 4.135],\n",
              " ['Net4_1', 14, 9, 3.911],\n",
              " ['Net4_1', 15, 11, 3.705],\n",
              " ['Net4_1', 16, 16, 3.536],\n",
              " ['Net4_1', 17, 18, 3.369],\n",
              " ['Net4_1', 18, 20, 3.271],\n",
              " ['Net4_1', 19, 21, 3.169],\n",
              " ['Net4_1', 20, 22, 3.082]]"
            ]
          },
          "metadata": {},
          "execution_count": 25
        }
      ]
    },
    {
      "cell_type": "code",
      "source": [
        "# Train Model 4_2 - Sigmoid Activation Function - ASGD Optimizer - Learning Rate 0.01\n",
        "list_net4_2 = []\n",
        "for epoch in range(20):  # loop over the dataset multiple times\n",
        "\n",
        "    running_loss = 0.0\n",
        "    for i, data in enumerate(trainloader, 0):\n",
        "        # get the inputs; data is a list of [inputs, labels]\n",
        "        inputs, labels = data\n",
        "\n",
        "        # zero the parameter gradients\n",
        "        optimizer_net4_2.zero_grad()\n",
        "\n",
        "        # forward + backward + optimize\n",
        "        outputs = net4_2(inputs)\n",
        "        loss = criterion(outputs, labels)\n",
        "        loss.backward()\n",
        "        optimizer_net4_2.step()\n",
        "\n",
        "        # print statistics\n",
        "        running_loss += loss.item()\n",
        "        if i % 2000 == 1999:    # print every 2000 mini-batches\n",
        "            #print(f'[{epoch + 1}, {i + 1:5d}] loss: {running_loss / 2000:.3f}')\n",
        "            current_loss = round(running_loss / 2000, 3)\n",
        "            running_loss = 0.0\n",
        "\n",
        "    accuracy = accuracy_function(net4_2)\n",
        "\n",
        "    list_net4_2.append([\"Net4_2\", epoch+1, accuracy, current_loss])\n",
        "\n",
        "print('Finished Training')\n",
        "list_net4_2"
      ],
      "metadata": {
        "colab": {
          "base_uri": "https://localhost:8080/"
        },
        "id": "EpZqwo6M_z7E",
        "outputId": "00e31f0f-cb3a-454c-aa2f-851f4098f747"
      },
      "execution_count": 26,
      "outputs": [
        {
          "output_type": "stream",
          "name": "stdout",
          "text": [
            "Accuracy of the network on the 10000 test images: 25 %\n",
            "Accuracy of the network on the 10000 test images: 25 %\n",
            "Accuracy of the network on the 10000 test images: 26 %\n",
            "Accuracy of the network on the 10000 test images: 26 %\n",
            "Accuracy of the network on the 10000 test images: 26 %\n",
            "Accuracy of the network on the 10000 test images: 26 %\n",
            "Accuracy of the network on the 10000 test images: 26 %\n",
            "Accuracy of the network on the 10000 test images: 27 %\n",
            "Accuracy of the network on the 10000 test images: 27 %\n",
            "Accuracy of the network on the 10000 test images: 27 %\n",
            "Accuracy of the network on the 10000 test images: 27 %\n",
            "Accuracy of the network on the 10000 test images: 27 %\n",
            "Accuracy of the network on the 10000 test images: 28 %\n",
            "Accuracy of the network on the 10000 test images: 28 %\n",
            "Accuracy of the network on the 10000 test images: 28 %\n",
            "Accuracy of the network on the 10000 test images: 28 %\n",
            "Accuracy of the network on the 10000 test images: 28 %\n",
            "Accuracy of the network on the 10000 test images: 28 %\n",
            "Accuracy of the network on the 10000 test images: 28 %\n",
            "Accuracy of the network on the 10000 test images: 29 %\n",
            "Finished Training\n"
          ]
        },
        {
          "output_type": "execute_result",
          "data": {
            "text/plain": [
              "[['Net4_2', 1, 25, 2.846],\n",
              " ['Net4_2', 2, 25, 2.841],\n",
              " ['Net4_2', 3, 26, 2.801],\n",
              " ['Net4_2', 4, 26, 2.806],\n",
              " ['Net4_2', 5, 26, 2.765],\n",
              " ['Net4_2', 6, 26, 2.774],\n",
              " ['Net4_2', 7, 26, 2.748],\n",
              " ['Net4_2', 8, 27, 2.743],\n",
              " ['Net4_2', 9, 27, 2.718],\n",
              " ['Net4_2', 10, 27, 2.683],\n",
              " ['Net4_2', 11, 27, 2.712],\n",
              " ['Net4_2', 12, 27, 2.7],\n",
              " ['Net4_2', 13, 28, 2.708],\n",
              " ['Net4_2', 14, 28, 2.705],\n",
              " ['Net4_2', 15, 28, 2.678],\n",
              " ['Net4_2', 16, 28, 2.65],\n",
              " ['Net4_2', 17, 28, 2.669],\n",
              " ['Net4_2', 18, 28, 2.646],\n",
              " ['Net4_2', 19, 28, 2.633],\n",
              " ['Net4_2', 20, 29, 2.633]]"
            ]
          },
          "metadata": {},
          "execution_count": 26
        }
      ]
    },
    {
      "cell_type": "code",
      "source": [
        "# Train Model 4_3 - Sigmoid Activation Function - Adam Optimizer - Learning Rate 0.01\n",
        "list_net4_3 = []\n",
        "for epoch in range(20):  # loop over the dataset multiple times\n",
        "\n",
        "    running_loss = 0.0\n",
        "    for i, data in enumerate(trainloader, 0):\n",
        "        # get the inputs; data is a list of [inputs, labels]\n",
        "        inputs, labels = data\n",
        "\n",
        "        # zero the parameter gradients\n",
        "        optimizer_net4_3.zero_grad()\n",
        "\n",
        "        # forward + backward + optimize\n",
        "        outputs = net4_3(inputs)\n",
        "        loss = criterion(outputs, labels)\n",
        "        loss.backward()\n",
        "        optimizer_net4_3.step()\n",
        "\n",
        "        # print statistics\n",
        "        running_loss += loss.item()\n",
        "        if i % 2000 == 1999:    # print every 2000 mini-batches\n",
        "            #print(f'[{epoch + 1}, {i + 1:5d}] loss: {running_loss / 2000:.3f}')\n",
        "            current_loss = round(running_loss / 2000, 3)\n",
        "            running_loss = 0.0\n",
        "\n",
        "    accuracy = accuracy_function(net4_3)\n",
        "\n",
        "    list_net4_3.append([\"Net4_3\", epoch+1, accuracy, current_loss])\n",
        "\n",
        "print('Finished Training')\n",
        "list_net4_3"
      ],
      "metadata": {
        "colab": {
          "base_uri": "https://localhost:8080/"
        },
        "id": "qHOQuIow_z_g",
        "outputId": "52cbd194-f944-4fe4-b9cf-c579e40a692f"
      },
      "execution_count": 27,
      "outputs": [
        {
          "output_type": "stream",
          "name": "stdout",
          "text": [
            "Accuracy of the network on the 10000 test images: 10 %\n",
            "Accuracy of the network on the 10000 test images: 6 %\n",
            "Accuracy of the network on the 10000 test images: 9 %\n",
            "Accuracy of the network on the 10000 test images: 8 %\n",
            "Accuracy of the network on the 10000 test images: 8 %\n",
            "Accuracy of the network on the 10000 test images: 8 %\n",
            "Accuracy of the network on the 10000 test images: 8 %\n",
            "Accuracy of the network on the 10000 test images: 6 %\n",
            "Accuracy of the network on the 10000 test images: 8 %\n",
            "Accuracy of the network on the 10000 test images: 9 %\n",
            "Accuracy of the network on the 10000 test images: 8 %\n",
            "Accuracy of the network on the 10000 test images: 8 %\n",
            "Accuracy of the network on the 10000 test images: 6 %\n",
            "Accuracy of the network on the 10000 test images: 7 %\n",
            "Accuracy of the network on the 10000 test images: 6 %\n",
            "Accuracy of the network on the 10000 test images: 6 %\n",
            "Accuracy of the network on the 10000 test images: 7 %\n",
            "Accuracy of the network on the 10000 test images: 7 %\n",
            "Accuracy of the network on the 10000 test images: 7 %\n",
            "Accuracy of the network on the 10000 test images: 7 %\n",
            "Finished Training\n"
          ]
        },
        {
          "output_type": "execute_result",
          "data": {
            "text/plain": [
              "[['Net4_3', 1, 10, 3.892],\n",
              " ['Net4_3', 2, 6, 3.925],\n",
              " ['Net4_3', 3, 9, 3.957],\n",
              " ['Net4_3', 4, 8, 4.088],\n",
              " ['Net4_3', 5, 8, 3.994],\n",
              " ['Net4_3', 6, 8, 3.932],\n",
              " ['Net4_3', 7, 8, 3.974],\n",
              " ['Net4_3', 8, 6, 4.056],\n",
              " ['Net4_3', 9, 8, 3.968],\n",
              " ['Net4_3', 10, 9, 3.988],\n",
              " ['Net4_3', 11, 8, 4.008],\n",
              " ['Net4_3', 12, 8, 4.038],\n",
              " ['Net4_3', 13, 6, 4.116],\n",
              " ['Net4_3', 14, 7, 4.143],\n",
              " ['Net4_3', 15, 6, 4.106],\n",
              " ['Net4_3', 16, 6, 4.097],\n",
              " ['Net4_3', 17, 7, 4.039],\n",
              " ['Net4_3', 18, 7, 4.074],\n",
              " ['Net4_3', 19, 7, 4.011],\n",
              " ['Net4_3', 20, 7, 4.111]]"
            ]
          },
          "metadata": {},
          "execution_count": 27
        }
      ]
    },
    {
      "cell_type": "code",
      "source": [
        "# Train Model 4_4 - Sigmoid Activation Function - Adamax Optimizer - Learning Rate 0.01\n",
        "list_net4_4 = []\n",
        "for epoch in range(20):  # loop over the dataset multiple times\n",
        "\n",
        "    running_loss = 0.0\n",
        "    for i, data in enumerate(trainloader, 0):\n",
        "        # get the inputs; data is a list of [inputs, labels]\n",
        "        inputs, labels = data\n",
        "\n",
        "        # zero the parameter gradients\n",
        "        optimizer_net4_4.zero_grad()\n",
        "\n",
        "        # forward + backward + optimize\n",
        "        outputs = net4_4(inputs)\n",
        "        loss = criterion(outputs, labels)\n",
        "        loss.backward()\n",
        "        optimizer_net4_4.step()\n",
        "\n",
        "        # print statistics\n",
        "        running_loss += loss.item()\n",
        "        if i % 2000 == 1999:    # print every 2000 mini-batches\n",
        "            #print(f'[{epoch + 1}, {i + 1:5d}] loss: {running_loss / 2000:.3f}')\n",
        "            current_loss = round(running_loss / 2000, 3)\n",
        "            running_loss = 0.0\n",
        "\n",
        "    accuracy = accuracy_function(net4_4)\n",
        "\n",
        "    list_net4_4.append([\"Net4_4\", epoch+1, accuracy, current_loss])\n",
        "\n",
        "print('Finished Training')\n",
        "list_net4_4"
      ],
      "metadata": {
        "colab": {
          "base_uri": "https://localhost:8080/"
        },
        "id": "e8uFVLe5_0D8",
        "outputId": "84deb92f-bd60-4639-c8dd-60f6fdbb1d02"
      },
      "execution_count": 28,
      "outputs": [
        {
          "output_type": "stream",
          "name": "stdout",
          "text": [
            "Accuracy of the network on the 10000 test images: 9 %\n",
            "Accuracy of the network on the 10000 test images: 9 %\n",
            "Accuracy of the network on the 10000 test images: 9 %\n",
            "Accuracy of the network on the 10000 test images: 9 %\n",
            "Accuracy of the network on the 10000 test images: 10 %\n",
            "Accuracy of the network on the 10000 test images: 10 %\n",
            "Accuracy of the network on the 10000 test images: 10 %\n",
            "Accuracy of the network on the 10000 test images: 10 %\n",
            "Accuracy of the network on the 10000 test images: 11 %\n",
            "Accuracy of the network on the 10000 test images: 11 %\n",
            "Accuracy of the network on the 10000 test images: 11 %\n",
            "Accuracy of the network on the 10000 test images: 11 %\n",
            "Accuracy of the network on the 10000 test images: 11 %\n",
            "Accuracy of the network on the 10000 test images: 11 %\n",
            "Accuracy of the network on the 10000 test images: 11 %\n",
            "Accuracy of the network on the 10000 test images: 11 %\n",
            "Accuracy of the network on the 10000 test images: 11 %\n",
            "Accuracy of the network on the 10000 test images: 11 %\n",
            "Accuracy of the network on the 10000 test images: 11 %\n",
            "Accuracy of the network on the 10000 test images: 12 %\n",
            "Finished Training\n"
          ]
        },
        {
          "output_type": "execute_result",
          "data": {
            "text/plain": [
              "[['Net4_4', 1, 9, 3.92],\n",
              " ['Net4_4', 2, 9, 3.907],\n",
              " ['Net4_4', 3, 9, 3.89],\n",
              " ['Net4_4', 4, 9, 3.86],\n",
              " ['Net4_4', 5, 10, 3.839],\n",
              " ['Net4_4', 6, 10, 3.836],\n",
              " ['Net4_4', 7, 10, 3.798],\n",
              " ['Net4_4', 8, 10, 3.804],\n",
              " ['Net4_4', 9, 11, 3.788],\n",
              " ['Net4_4', 10, 11, 3.783],\n",
              " ['Net4_4', 11, 11, 3.777],\n",
              " ['Net4_4', 12, 11, 3.756],\n",
              " ['Net4_4', 13, 11, 3.738],\n",
              " ['Net4_4', 14, 11, 3.751],\n",
              " ['Net4_4', 15, 11, 3.728],\n",
              " ['Net4_4', 16, 11, 3.75],\n",
              " ['Net4_4', 17, 11, 3.736],\n",
              " ['Net4_4', 18, 11, 3.713],\n",
              " ['Net4_4', 19, 11, 3.715],\n",
              " ['Net4_4', 20, 12, 3.672]]"
            ]
          },
          "metadata": {},
          "execution_count": 28
        }
      ]
    },
    {
      "cell_type": "code",
      "source": [
        "# Save results lists manually to protect from crashes.\n",
        "\n",
        "# ReLU 0.001\n",
        "list_net1_1 = [['Net1_1', 1, 12, 3.796],['Net1_1', 2, 16, 3.463],['Net1_1', 3, 20, 3.261],['Net1_1', 4, 22, 3.143],['Net1_1', 5, 24, 3.043],['Net1_1', 6, 24, 2.974],['Net1_1', 7, 23, 2.936],['Net1_1', 8, 26, 2.851],['Net1_1', 9, 24, 2.839],\n",
        "              ['Net1_1', 10, 25, 2.79],['Net1_1', 11, 24, 2.772],['Net1_1', 12, 25, 2.768],['Net1_1', 13, 25, 2.716],['Net1_1', 14, 25, 2.67],['Net1_1', 15, 25, 2.678],['Net1_1', 16, 25, 2.668],['Net1_1', 17, 26, 2.602],['Net1_1', 18, 24, 2.63],['Net1_1', 19, 23, 2.586],['Net1_1', 20, 23, 2.594]]\n",
        "list_net1_2 = [['Net1_2', 1, 11, 3.864],['Net1_2', 2, 13, 3.711],['Net1_2', 3, 15, 3.599],['Net1_2', 4, 17, 3.502],['Net1_2', 5, 19, 3.401],['Net1_2', 6, 19, 3.314],['Net1_2', 7, 20, 3.25],['Net1_2', 8, 21, 3.172],['Net1_2', 9, 23, 3.131],['Net1_2', 10, 24, 3.05],\n",
        "              ['Net1_2', 11, 24, 3.003],['Net1_2', 12, 25, 2.927],['Net1_2', 13, 26, 2.895],['Net1_2', 14, 26, 2.882],['Net1_2', 15, 27, 2.845],['Net1_2', 16, 26, 2.784],['Net1_2', 17, 28, 2.748],['Net1_2', 18, 28, 2.708],['Net1_2', 19, 29, 2.689],['Net1_2', 20, 30, 2.634]]\n",
        "list_net1_3 = [['Net1_3', 1, 20, 3.27],['Net1_3', 2, 24, 3.099],['Net1_3', 3, 23, 3.056],['Net1_3', 4, 25, 2.97],['Net1_3', 5, 26, 2.906],['Net1_3', 6, 24, 2.886],['Net1_3', 7, 25, 2.856],['Net1_3', 8, 23, 2.857],['Net1_3', 9, 23, 2.803],['Net1_3', 10, 23, 2.76],\n",
        "              ['Net1_3', 11, 24, 2.75],['Net1_3', 12, 23, 2.756],['Net1_3', 13, 25, 2.74],['Net1_3', 14, 24, 2.725],['Net1_3', 15, 24, 2.758],['Net1_3', 16, 22, 2.751],['Net1_3', 17, 23, 2.763],['Net1_3', 18, 21, 2.732],['Net1_3', 19, 24, 2.738],['Net1_3', 20, 23, 2.726]] \n",
        "list_net1_4 = [['Net1_4', 1, 26, 2.207],['Net1_4', 2, 26, 2.11],['Net1_4', 3, 26, 2.036],['Net1_4', 4, 26, 2.022],['Net1_4', 5, 26, 2.006],['Net1_4', 6, 26, 1.998],['Net1_4', 7, 26, 1.982],['Net1_4', 8, 26, 1.958],['Net1_4', 9, 26, 1.94],\n",
        "              ['Net1_4', 10, 26, 1.921],['Net1_4', 11, 26, 1.916],['Net1_4', 12, 26, 1.884],['Net1_4', 13, 26, 1.876],['Net1_4', 14, 26, 1.868],['Net1_4', 15, 26, 1.851],['Net1_4', 16, 26, 1.836],['Net1_4', 17, 25, 1.847],['Net1_4', 18, 26, 1.779],['Net1_4', 19, 25, 1.839],['Net1_4', 20, 26, 1.802]]\n",
        "\n",
        "# ReLU 0.01\n",
        "list_net2_1 = [['Net2_1', 1, 1, 4.612],['Net2_1', 2, 1, 4.613],['Net2_1', 3, 1, 4.598],['Net2_1', 4, 1, 4.612],['Net2_1', 5, 1, 4.613],['Net2_1', 6, 1, 4.613],['Net2_1', 7, 1, 4.613],['Net2_1', 8, 1, 4.612],['Net2_1', 9, 1, 4.612],['Net2_1', 10, 1, 4.613],\n",
        "              ['Net2_1', 11, 1, 4.611],['Net2_1', 12, 1, 4.612],['Net2_1', 13, 1, 4.612],['Net2_1', 14, 1, 4.613],['Net2_1', 15, 1, 4.612],['Net2_1', 16, 1, 4.612],['Net2_1', 17, 1, 4.612],['Net2_1', 18, 1, 4.612],['Net2_1', 19, 1, 4.611],['Net2_1', 20, 1, 4.613]]\n",
        "list_net2_2 = [['Net2_2', 1, 1, 4.607],['Net2_2', 2, 1, 4.607],['Net2_2', 3, 1, 4.607],['Net2_2', 4, 1, 4.606],['Net2_2', 5, 1, 4.607],['Net2_2', 6, 1, 4.607],['Net2_2', 7, 1, 4.607],['Net2_2', 8, 1, 4.606],['Net2_2', 9, 1, 4.607],['Net2_2', 10, 1, 4.606],\n",
        "              ['Net2_2', 11, 1, 4.607],['Net2_2', 12, 1, 4.606],['Net2_2', 13, 1, 4.606],['Net2_2', 14, 1, 4.606],['Net2_2', 15, 1, 4.607],['Net2_2', 16, 1, 4.606],['Net2_2', 17, 1, 4.606],['Net2_2', 18, 1, 4.606],['Net2_2', 19, 1, 4.606],['Net2_2', 20, 1, 4.606]]\n",
        "list_net2_3 = [['Net2_3', 1, 1, 4.618],['Net2_3', 2, 1, 4.619],['Net2_3', 3, 1, 4.62],['Net2_3', 4, 1, 4.62],['Net2_3', 5, 1, 4.617],['Net2_3', 6, 1, 4.619],['Net2_3', 7, 1, 4.618],['Net2_3', 8, 1, 4.619],['Net2_3', 9, 1, 4.618],['Net2_3', 10, 1, 4.619],\n",
        "              ['Net2_3', 11, 1, 4.619],['Net2_3', 12, 1, 4.62],['Net2_3', 13, 1, 4.618],['Net2_3', 14, 1, 4.62],['Net2_3', 15, 1, 4.617],['Net2_3', 16, 1, 4.619],['Net2_3', 17, 1, 4.619],['Net2_3', 18, 1, 4.618],['Net2_3', 19, 1, 4.617],['Net2_3', 20, 1, 4.619]]\n",
        "list_net2_4 = [['Net2_4', 1, 1, 4.609],['Net2_4', 2, 1, 4.608],['Net2_4', 3, 1, 4.608],['Net2_4', 4, 1, 4.608],['Net2_4', 5, 1, 4.609],['Net2_4', 6, 1, 4.608],['Net2_4', 7, 1, 4.609],['Net2_4', 8, 1, 4.609],['Net2_4', 9, 1, 4.608],['Net2_4', 10, 1, 4.609],\n",
        "              ['Net2_4', 11, 1, 4.609],['Net2_4', 12, 1, 4.608],['Net2_4', 13, 1, 4.609],['Net2_4', 14, 1, 4.609],['Net2_4', 15, 1, 4.609],['Net2_4', 16, 1, 4.608],['Net2_4', 17, 1, 4.609],['Net2_4', 18, 1, 4.609],['Net2_4', 19, 1, 4.608],['Net2_4', 20, 1, 4.608]]\n",
        "\n",
        "# Sigmoid 0.001\n",
        "list_net3_1 = [['Net3_1', 1, 1, 4.613],['Net3_1', 2, 1, 4.611],['Net3_1', 3, 1, 4.609],['Net3_1', 4, 1, 4.608],['Net3_1', 5, 1, 4.607],['Net3_1', 6, 1, 4.607],['Net3_1', 7, 1, 4.607],['Net3_1', 8, 1, 4.607],['Net3_1', 9, 1, 4.607],['Net3_1', 10, 1, 4.607],\n",
        "              ['Net3_1', 11, 1, 4.607],['Net3_1', 12, 1, 4.607],['Net3_1', 13, 1, 4.607],['Net3_1', 14, 1, 4.607],['Net3_1', 15, 1, 4.606],['Net3_1', 16, 1, 4.606],['Net3_1', 17, 1, 4.606],['Net3_1', 18, 1, 4.606],['Net3_1', 19, 0, 4.605],['Net3_1', 20, 1, 4.604]]\n",
        "list_net3_2 = [['Net3_2', 1, 1, 4.602],['Net3_2', 2, 1, 4.602],['Net3_2', 3, 1, 4.602],['Net3_2', 4, 1, 4.601],['Net3_2', 5, 1, 4.6],['Net3_2', 6, 1, 4.6],['Net3_2', 7, 1, 4.6],['Net3_2', 8, 1, 4.599],['Net3_2', 9, 0, 4.598],['Net3_2', 10, 1, 4.597],\n",
        "              ['Net3_2', 11, 0, 4.596],['Net3_2', 12, 0, 4.595],['Net3_2', 13, 0, 4.594],['Net3_2', 14, 1, 4.594],['Net3_2', 15, 1, 4.59],['Net3_2', 16, 1, 4.588],['Net3_2', 17, 0, 4.586],['Net3_2', 18, 0, 4.582],['Net3_2', 19, 1, 4.58],['Net3_2', 20, 1, 4.572]]\n",
        "list_net3_3 = [['Net3_3', 1, 7, 4.073],['Net3_3', 2, 12, 3.779],['Net3_3', 3, 14, 3.623],['Net3_3', 4, 17, 3.461],['Net3_3', 5, 19, 3.35],['Net3_3', 6, 20, 3.247],['Net3_3', 7, 21, 3.136],['Net3_3', 8, 23, 3.041],['Net3_3', 9, 24, 2.987],['Net3_3', 10, 25, 2.932],\n",
        "              ['Net3_3', 11, 26, 2.802],['Net3_3', 12, 25, 2.772],['Net3_3', 13, 26, 2.683],['Net3_3', 14, 26, 2.659],['Net3_3', 15, 27, 2.63],['Net3_3', 16, 28, 2.601],['Net3_3', 17, 27, 2.554],['Net3_3', 18, 27, 2.537],['Net3_3', 19, 28, 2.517],['Net3_3', 20, 28, 2.466]]\n",
        "list_net3_4 = [['Net3_4', 1, 29, 2.245],['Net3_4', 2, 29, 2.2],['Net3_4', 3, 29, 2.202],['Net3_4', 4, 29, 2.189],['Net3_4', 5, 29, 2.17],['Net3_4', 6, 29, 2.193],['Net3_4', 7, 29, 2.153],['Net3_4', 8, 29, 2.148],['Net3_4', 9, 29, 2.132],['Net3_4', 10, 30, 2.168],\n",
        "              ['Net3_4', 11, 29, 2.115],['Net3_4', 12, 29, 2.125],['Net3_4', 13, 29, 2.103],['Net3_4', 14, 29, 2.098],['Net3_4', 15, 29, 2.094],['Net3_4', 16, 29, 2.129],['Net3_4', 17, 29, 2.09],['Net3_4', 18, 29, 2.109],['Net3_4', 19, 29, 2.111],['Net3_4', 20, 30, 2.084]]\n",
        "\n",
        "# Sigmoid 0.01\n",
        "list_net4_1 = [['Net4_1', 1, 1, 4.612],['Net4_1', 2, 1, 4.613],['Net4_1', 3, 1, 4.611],['Net4_1', 4, 1, 4.612],['Net4_1', 5, 1, 4.613],['Net4_1', 6, 1, 4.613],['Net4_1', 7, 1, 4.612],['Net4_1', 8, 1, 4.611],['Net4_1', 9, 1, 4.612],['Net4_1', 10, 1, 4.612],\n",
        "              ['Net4_1', 11, 1, 4.603],['Net4_1', 12, 3, 4.322],['Net4_1', 13, 5, 4.135],['Net4_1', 14, 9, 3.911],['Net4_1', 15, 11, 3.705],['Net4_1', 16, 16, 3.536],['Net4_1', 17, 18, 3.369],['Net4_1', 18, 20, 3.271],['Net4_1', 19, 21, 3.169],['Net4_1', 20, 22, 3.082]]\n",
        "list_net4_2 = [['Net4_2', 1, 25, 2.846],['Net4_2', 2, 25, 2.841],['Net4_2', 3, 26, 2.801],['Net4_2', 4, 26, 2.806],['Net4_2', 5, 26, 2.765],['Net4_2', 6, 26, 2.774],['Net4_2', 7, 26, 2.748],['Net4_2', 8, 27, 2.743],['Net4_2', 9, 27, 2.718],['Net4_2', 10, 27, 2.683],\n",
        "              ['Net4_2', 11, 27, 2.712],['Net4_2', 12, 27, 2.7],['Net4_2', 13, 28, 2.708],['Net4_2', 14, 28, 2.705],['Net4_2', 15, 28, 2.678],['Net4_2', 16, 28, 2.65],['Net4_2', 17, 28, 2.669],['Net4_2', 18, 28, 2.646],['Net4_2', 19, 28, 2.633],['Net4_2', 20, 29, 2.633]]\n",
        "list_net4_3 = [['Net4_3', 1, 10, 3.892],['Net4_3', 2, 6, 3.925],['Net4_3', 3, 9, 3.957],['Net4_3', 4, 8, 4.088],['Net4_3', 5, 8, 3.994],['Net4_3', 6, 8, 3.932],['Net4_3', 7, 8, 3.974],['Net4_3', 8, 6, 4.056],['Net4_3', 9, 8, 3.968],['Net4_3', 10, 9, 3.988],\n",
        "              ['Net4_3', 11, 8, 4.008],['Net4_3', 12, 8, 4.038],['Net4_3', 13, 6, 4.116],['Net4_3', 14, 7, 4.143],['Net4_3', 15, 6, 4.106],['Net4_3', 16, 6, 4.097],['Net4_3', 17, 7, 4.039],['Net4_3', 18, 7, 4.074],['Net4_3', 19, 7, 4.011],['Net4_3', 20, 7, 4.111]]\n",
        "list_net4_4 = [['Net4_4', 1, 9, 3.92],['Net4_4', 2, 9, 3.907],['Net4_4', 3, 9, 3.89],['Net4_4', 4, 9, 3.86],['Net4_4', 5, 10, 3.839],['Net4_4', 6, 10, 3.836],['Net4_4', 7, 10, 3.798],['Net4_4', 8, 10, 3.804],['Net4_4', 9, 11, 3.788],['Net4_4', 10, 11, 3.783],\n",
        "              ['Net4_4', 11, 11, 3.777],['Net4_4', 12, 11, 3.756],['Net4_4', 13, 11, 3.738],['Net4_4', 14, 11, 3.751],['Net4_4', 15, 11, 3.728],['Net4_4', 16, 11, 3.75],['Net4_4', 17, 11, 3.736],['Net4_4', 18, 11, 3.713],['Net4_4', 19, 11, 3.715],['Net4_4', 20, 12, 3.672]]"
      ],
      "metadata": {
        "id": "eCauhXTelOoU"
      },
      "execution_count": 38,
      "outputs": []
    },
    {
      "cell_type": "code",
      "source": [
        "# Combine List of Results\n",
        "list_models = [list_net1_1, list_net1_2, list_net1_3, list_net1_4, list_net2_1, list_net2_2, list_net2_3, list_net2_4, \n",
        "               list_net3_1, list_net3_2, list_net3_3, list_net3_4, list_net4_1, list_net4_2, list_net4_3, list_net4_4]"
      ],
      "metadata": {
        "id": "YTpkhESqkzm-"
      },
      "execution_count": 39,
      "outputs": []
    },
    {
      "cell_type": "code",
      "source": [
        "# Create Dataframe of Accuracy Results\n",
        "import pandas as pd\n",
        "model_accuracy_results = pd.DataFrame()\n",
        "for model in list_models:\n",
        "  scores = []\n",
        "  name = model[0][0]\n",
        "  for epoch in model:\n",
        "    scores.append(epoch[2])\n",
        "  model_accuracy_results[name] = pd.Series(scores)\n",
        "\n",
        "model_accuracy_results.head()"
      ],
      "metadata": {
        "colab": {
          "base_uri": "https://localhost:8080/",
          "height": 204
        },
        "id": "ZTblPTeFrv0s",
        "outputId": "788eb1ed-b943-4d0d-d036-a241e96e4911"
      },
      "execution_count": 40,
      "outputs": [
        {
          "output_type": "execute_result",
          "data": {
            "text/plain": [
              "   Net1_1  Net1_2  Net1_3  Net1_4  Net2_1  Net2_2  Net2_3  Net2_4  Net3_1  \\\n",
              "0      12      11      20      26       1       1       1       1       1   \n",
              "1      16      13      24      26       1       1       1       1       1   \n",
              "2      20      15      23      26       1       1       1       1       1   \n",
              "3      22      17      25      26       1       1       1       1       1   \n",
              "4      24      19      26      26       1       1       1       1       1   \n",
              "\n",
              "   Net3_2  Net3_3  Net3_4  Net4_1  Net4_2  Net4_3  Net4_4  \n",
              "0       1       7      29       1      25      10       9  \n",
              "1       1      12      29       1      25       6       9  \n",
              "2       1      14      29       1      26       9       9  \n",
              "3       1      17      29       1      26       8       9  \n",
              "4       1      19      29       1      26       8      10  "
            ],
            "text/html": [
              "\n",
              "  <div id=\"df-eb757c5f-040f-4298-ba7f-7ef98299f679\">\n",
              "    <div class=\"colab-df-container\">\n",
              "      <div>\n",
              "<style scoped>\n",
              "    .dataframe tbody tr th:only-of-type {\n",
              "        vertical-align: middle;\n",
              "    }\n",
              "\n",
              "    .dataframe tbody tr th {\n",
              "        vertical-align: top;\n",
              "    }\n",
              "\n",
              "    .dataframe thead th {\n",
              "        text-align: right;\n",
              "    }\n",
              "</style>\n",
              "<table border=\"1\" class=\"dataframe\">\n",
              "  <thead>\n",
              "    <tr style=\"text-align: right;\">\n",
              "      <th></th>\n",
              "      <th>Net1_1</th>\n",
              "      <th>Net1_2</th>\n",
              "      <th>Net1_3</th>\n",
              "      <th>Net1_4</th>\n",
              "      <th>Net2_1</th>\n",
              "      <th>Net2_2</th>\n",
              "      <th>Net2_3</th>\n",
              "      <th>Net2_4</th>\n",
              "      <th>Net3_1</th>\n",
              "      <th>Net3_2</th>\n",
              "      <th>Net3_3</th>\n",
              "      <th>Net3_4</th>\n",
              "      <th>Net4_1</th>\n",
              "      <th>Net4_2</th>\n",
              "      <th>Net4_3</th>\n",
              "      <th>Net4_4</th>\n",
              "    </tr>\n",
              "  </thead>\n",
              "  <tbody>\n",
              "    <tr>\n",
              "      <th>0</th>\n",
              "      <td>12</td>\n",
              "      <td>11</td>\n",
              "      <td>20</td>\n",
              "      <td>26</td>\n",
              "      <td>1</td>\n",
              "      <td>1</td>\n",
              "      <td>1</td>\n",
              "      <td>1</td>\n",
              "      <td>1</td>\n",
              "      <td>1</td>\n",
              "      <td>7</td>\n",
              "      <td>29</td>\n",
              "      <td>1</td>\n",
              "      <td>25</td>\n",
              "      <td>10</td>\n",
              "      <td>9</td>\n",
              "    </tr>\n",
              "    <tr>\n",
              "      <th>1</th>\n",
              "      <td>16</td>\n",
              "      <td>13</td>\n",
              "      <td>24</td>\n",
              "      <td>26</td>\n",
              "      <td>1</td>\n",
              "      <td>1</td>\n",
              "      <td>1</td>\n",
              "      <td>1</td>\n",
              "      <td>1</td>\n",
              "      <td>1</td>\n",
              "      <td>12</td>\n",
              "      <td>29</td>\n",
              "      <td>1</td>\n",
              "      <td>25</td>\n",
              "      <td>6</td>\n",
              "      <td>9</td>\n",
              "    </tr>\n",
              "    <tr>\n",
              "      <th>2</th>\n",
              "      <td>20</td>\n",
              "      <td>15</td>\n",
              "      <td>23</td>\n",
              "      <td>26</td>\n",
              "      <td>1</td>\n",
              "      <td>1</td>\n",
              "      <td>1</td>\n",
              "      <td>1</td>\n",
              "      <td>1</td>\n",
              "      <td>1</td>\n",
              "      <td>14</td>\n",
              "      <td>29</td>\n",
              "      <td>1</td>\n",
              "      <td>26</td>\n",
              "      <td>9</td>\n",
              "      <td>9</td>\n",
              "    </tr>\n",
              "    <tr>\n",
              "      <th>3</th>\n",
              "      <td>22</td>\n",
              "      <td>17</td>\n",
              "      <td>25</td>\n",
              "      <td>26</td>\n",
              "      <td>1</td>\n",
              "      <td>1</td>\n",
              "      <td>1</td>\n",
              "      <td>1</td>\n",
              "      <td>1</td>\n",
              "      <td>1</td>\n",
              "      <td>17</td>\n",
              "      <td>29</td>\n",
              "      <td>1</td>\n",
              "      <td>26</td>\n",
              "      <td>8</td>\n",
              "      <td>9</td>\n",
              "    </tr>\n",
              "    <tr>\n",
              "      <th>4</th>\n",
              "      <td>24</td>\n",
              "      <td>19</td>\n",
              "      <td>26</td>\n",
              "      <td>26</td>\n",
              "      <td>1</td>\n",
              "      <td>1</td>\n",
              "      <td>1</td>\n",
              "      <td>1</td>\n",
              "      <td>1</td>\n",
              "      <td>1</td>\n",
              "      <td>19</td>\n",
              "      <td>29</td>\n",
              "      <td>1</td>\n",
              "      <td>26</td>\n",
              "      <td>8</td>\n",
              "      <td>10</td>\n",
              "    </tr>\n",
              "  </tbody>\n",
              "</table>\n",
              "</div>\n",
              "      <button class=\"colab-df-convert\" onclick=\"convertToInteractive('df-eb757c5f-040f-4298-ba7f-7ef98299f679')\"\n",
              "              title=\"Convert this dataframe to an interactive table.\"\n",
              "              style=\"display:none;\">\n",
              "        \n",
              "  <svg xmlns=\"http://www.w3.org/2000/svg\" height=\"24px\"viewBox=\"0 0 24 24\"\n",
              "       width=\"24px\">\n",
              "    <path d=\"M0 0h24v24H0V0z\" fill=\"none\"/>\n",
              "    <path d=\"M18.56 5.44l.94 2.06.94-2.06 2.06-.94-2.06-.94-.94-2.06-.94 2.06-2.06.94zm-11 1L8.5 8.5l.94-2.06 2.06-.94-2.06-.94L8.5 2.5l-.94 2.06-2.06.94zm10 10l.94 2.06.94-2.06 2.06-.94-2.06-.94-.94-2.06-.94 2.06-2.06.94z\"/><path d=\"M17.41 7.96l-1.37-1.37c-.4-.4-.92-.59-1.43-.59-.52 0-1.04.2-1.43.59L10.3 9.45l-7.72 7.72c-.78.78-.78 2.05 0 2.83L4 21.41c.39.39.9.59 1.41.59.51 0 1.02-.2 1.41-.59l7.78-7.78 2.81-2.81c.8-.78.8-2.07 0-2.86zM5.41 20L4 18.59l7.72-7.72 1.47 1.35L5.41 20z\"/>\n",
              "  </svg>\n",
              "      </button>\n",
              "      \n",
              "  <style>\n",
              "    .colab-df-container {\n",
              "      display:flex;\n",
              "      flex-wrap:wrap;\n",
              "      gap: 12px;\n",
              "    }\n",
              "\n",
              "    .colab-df-convert {\n",
              "      background-color: #E8F0FE;\n",
              "      border: none;\n",
              "      border-radius: 50%;\n",
              "      cursor: pointer;\n",
              "      display: none;\n",
              "      fill: #1967D2;\n",
              "      height: 32px;\n",
              "      padding: 0 0 0 0;\n",
              "      width: 32px;\n",
              "    }\n",
              "\n",
              "    .colab-df-convert:hover {\n",
              "      background-color: #E2EBFA;\n",
              "      box-shadow: 0px 1px 2px rgba(60, 64, 67, 0.3), 0px 1px 3px 1px rgba(60, 64, 67, 0.15);\n",
              "      fill: #174EA6;\n",
              "    }\n",
              "\n",
              "    [theme=dark] .colab-df-convert {\n",
              "      background-color: #3B4455;\n",
              "      fill: #D2E3FC;\n",
              "    }\n",
              "\n",
              "    [theme=dark] .colab-df-convert:hover {\n",
              "      background-color: #434B5C;\n",
              "      box-shadow: 0px 1px 3px 1px rgba(0, 0, 0, 0.15);\n",
              "      filter: drop-shadow(0px 1px 2px rgba(0, 0, 0, 0.3));\n",
              "      fill: #FFFFFF;\n",
              "    }\n",
              "  </style>\n",
              "\n",
              "      <script>\n",
              "        const buttonEl =\n",
              "          document.querySelector('#df-eb757c5f-040f-4298-ba7f-7ef98299f679 button.colab-df-convert');\n",
              "        buttonEl.style.display =\n",
              "          google.colab.kernel.accessAllowed ? 'block' : 'none';\n",
              "\n",
              "        async function convertToInteractive(key) {\n",
              "          const element = document.querySelector('#df-eb757c5f-040f-4298-ba7f-7ef98299f679');\n",
              "          const dataTable =\n",
              "            await google.colab.kernel.invokeFunction('convertToInteractive',\n",
              "                                                     [key], {});\n",
              "          if (!dataTable) return;\n",
              "\n",
              "          const docLinkHtml = 'Like what you see? Visit the ' +\n",
              "            '<a target=\"_blank\" href=https://colab.research.google.com/notebooks/data_table.ipynb>data table notebook</a>'\n",
              "            + ' to learn more about interactive tables.';\n",
              "          element.innerHTML = '';\n",
              "          dataTable['output_type'] = 'display_data';\n",
              "          await google.colab.output.renderOutput(dataTable, element);\n",
              "          const docLink = document.createElement('div');\n",
              "          docLink.innerHTML = docLinkHtml;\n",
              "          element.appendChild(docLink);\n",
              "        }\n",
              "      </script>\n",
              "    </div>\n",
              "  </div>\n",
              "  "
            ]
          },
          "metadata": {},
          "execution_count": 40
        }
      ]
    },
    {
      "cell_type": "code",
      "source": [
        "# Create Dataframe of Loss Results\n",
        "import pandas as pd\n",
        "model_loss_results = pd.DataFrame()\n",
        "for model in list_models:\n",
        "  scores = []\n",
        "  name = model[0][0]\n",
        "  for epoch in model:\n",
        "    scores.append(epoch[3])\n",
        "  model_loss_results[name] = pd.Series(scores)\n",
        "\n",
        "model_loss_results.head()"
      ],
      "metadata": {
        "colab": {
          "base_uri": "https://localhost:8080/",
          "height": 204
        },
        "id": "3PjW9bQJE6JE",
        "outputId": "aa2eb4ef-b6a6-48d1-8c51-d79fa94e0809"
      },
      "execution_count": 41,
      "outputs": [
        {
          "output_type": "execute_result",
          "data": {
            "text/plain": [
              "   Net1_1  Net1_2  Net1_3  Net1_4  Net2_1  Net2_2  Net2_3  Net2_4  Net3_1  \\\n",
              "0   3.796   3.864   3.270   2.207   4.612   4.607   4.618   4.609   4.613   \n",
              "1   3.463   3.711   3.099   2.110   4.613   4.607   4.619   4.608   4.611   \n",
              "2   3.261   3.599   3.056   2.036   4.598   4.607   4.620   4.608   4.609   \n",
              "3   3.143   3.502   2.970   2.022   4.612   4.606   4.620   4.608   4.608   \n",
              "4   3.043   3.401   2.906   2.006   4.613   4.607   4.617   4.609   4.607   \n",
              "\n",
              "   Net3_2  Net3_3  Net3_4  Net4_1  Net4_2  Net4_3  Net4_4  \n",
              "0   4.602   4.073   2.245   4.612   2.846   3.892   3.920  \n",
              "1   4.602   3.779   2.200   4.613   2.841   3.925   3.907  \n",
              "2   4.602   3.623   2.202   4.611   2.801   3.957   3.890  \n",
              "3   4.601   3.461   2.189   4.612   2.806   4.088   3.860  \n",
              "4   4.600   3.350   2.170   4.613   2.765   3.994   3.839  "
            ],
            "text/html": [
              "\n",
              "  <div id=\"df-6d47fc0a-caee-4cf7-87be-c461767d9ca0\">\n",
              "    <div class=\"colab-df-container\">\n",
              "      <div>\n",
              "<style scoped>\n",
              "    .dataframe tbody tr th:only-of-type {\n",
              "        vertical-align: middle;\n",
              "    }\n",
              "\n",
              "    .dataframe tbody tr th {\n",
              "        vertical-align: top;\n",
              "    }\n",
              "\n",
              "    .dataframe thead th {\n",
              "        text-align: right;\n",
              "    }\n",
              "</style>\n",
              "<table border=\"1\" class=\"dataframe\">\n",
              "  <thead>\n",
              "    <tr style=\"text-align: right;\">\n",
              "      <th></th>\n",
              "      <th>Net1_1</th>\n",
              "      <th>Net1_2</th>\n",
              "      <th>Net1_3</th>\n",
              "      <th>Net1_4</th>\n",
              "      <th>Net2_1</th>\n",
              "      <th>Net2_2</th>\n",
              "      <th>Net2_3</th>\n",
              "      <th>Net2_4</th>\n",
              "      <th>Net3_1</th>\n",
              "      <th>Net3_2</th>\n",
              "      <th>Net3_3</th>\n",
              "      <th>Net3_4</th>\n",
              "      <th>Net4_1</th>\n",
              "      <th>Net4_2</th>\n",
              "      <th>Net4_3</th>\n",
              "      <th>Net4_4</th>\n",
              "    </tr>\n",
              "  </thead>\n",
              "  <tbody>\n",
              "    <tr>\n",
              "      <th>0</th>\n",
              "      <td>3.796</td>\n",
              "      <td>3.864</td>\n",
              "      <td>3.270</td>\n",
              "      <td>2.207</td>\n",
              "      <td>4.612</td>\n",
              "      <td>4.607</td>\n",
              "      <td>4.618</td>\n",
              "      <td>4.609</td>\n",
              "      <td>4.613</td>\n",
              "      <td>4.602</td>\n",
              "      <td>4.073</td>\n",
              "      <td>2.245</td>\n",
              "      <td>4.612</td>\n",
              "      <td>2.846</td>\n",
              "      <td>3.892</td>\n",
              "      <td>3.920</td>\n",
              "    </tr>\n",
              "    <tr>\n",
              "      <th>1</th>\n",
              "      <td>3.463</td>\n",
              "      <td>3.711</td>\n",
              "      <td>3.099</td>\n",
              "      <td>2.110</td>\n",
              "      <td>4.613</td>\n",
              "      <td>4.607</td>\n",
              "      <td>4.619</td>\n",
              "      <td>4.608</td>\n",
              "      <td>4.611</td>\n",
              "      <td>4.602</td>\n",
              "      <td>3.779</td>\n",
              "      <td>2.200</td>\n",
              "      <td>4.613</td>\n",
              "      <td>2.841</td>\n",
              "      <td>3.925</td>\n",
              "      <td>3.907</td>\n",
              "    </tr>\n",
              "    <tr>\n",
              "      <th>2</th>\n",
              "      <td>3.261</td>\n",
              "      <td>3.599</td>\n",
              "      <td>3.056</td>\n",
              "      <td>2.036</td>\n",
              "      <td>4.598</td>\n",
              "      <td>4.607</td>\n",
              "      <td>4.620</td>\n",
              "      <td>4.608</td>\n",
              "      <td>4.609</td>\n",
              "      <td>4.602</td>\n",
              "      <td>3.623</td>\n",
              "      <td>2.202</td>\n",
              "      <td>4.611</td>\n",
              "      <td>2.801</td>\n",
              "      <td>3.957</td>\n",
              "      <td>3.890</td>\n",
              "    </tr>\n",
              "    <tr>\n",
              "      <th>3</th>\n",
              "      <td>3.143</td>\n",
              "      <td>3.502</td>\n",
              "      <td>2.970</td>\n",
              "      <td>2.022</td>\n",
              "      <td>4.612</td>\n",
              "      <td>4.606</td>\n",
              "      <td>4.620</td>\n",
              "      <td>4.608</td>\n",
              "      <td>4.608</td>\n",
              "      <td>4.601</td>\n",
              "      <td>3.461</td>\n",
              "      <td>2.189</td>\n",
              "      <td>4.612</td>\n",
              "      <td>2.806</td>\n",
              "      <td>4.088</td>\n",
              "      <td>3.860</td>\n",
              "    </tr>\n",
              "    <tr>\n",
              "      <th>4</th>\n",
              "      <td>3.043</td>\n",
              "      <td>3.401</td>\n",
              "      <td>2.906</td>\n",
              "      <td>2.006</td>\n",
              "      <td>4.613</td>\n",
              "      <td>4.607</td>\n",
              "      <td>4.617</td>\n",
              "      <td>4.609</td>\n",
              "      <td>4.607</td>\n",
              "      <td>4.600</td>\n",
              "      <td>3.350</td>\n",
              "      <td>2.170</td>\n",
              "      <td>4.613</td>\n",
              "      <td>2.765</td>\n",
              "      <td>3.994</td>\n",
              "      <td>3.839</td>\n",
              "    </tr>\n",
              "  </tbody>\n",
              "</table>\n",
              "</div>\n",
              "      <button class=\"colab-df-convert\" onclick=\"convertToInteractive('df-6d47fc0a-caee-4cf7-87be-c461767d9ca0')\"\n",
              "              title=\"Convert this dataframe to an interactive table.\"\n",
              "              style=\"display:none;\">\n",
              "        \n",
              "  <svg xmlns=\"http://www.w3.org/2000/svg\" height=\"24px\"viewBox=\"0 0 24 24\"\n",
              "       width=\"24px\">\n",
              "    <path d=\"M0 0h24v24H0V0z\" fill=\"none\"/>\n",
              "    <path d=\"M18.56 5.44l.94 2.06.94-2.06 2.06-.94-2.06-.94-.94-2.06-.94 2.06-2.06.94zm-11 1L8.5 8.5l.94-2.06 2.06-.94-2.06-.94L8.5 2.5l-.94 2.06-2.06.94zm10 10l.94 2.06.94-2.06 2.06-.94-2.06-.94-.94-2.06-.94 2.06-2.06.94z\"/><path d=\"M17.41 7.96l-1.37-1.37c-.4-.4-.92-.59-1.43-.59-.52 0-1.04.2-1.43.59L10.3 9.45l-7.72 7.72c-.78.78-.78 2.05 0 2.83L4 21.41c.39.39.9.59 1.41.59.51 0 1.02-.2 1.41-.59l7.78-7.78 2.81-2.81c.8-.78.8-2.07 0-2.86zM5.41 20L4 18.59l7.72-7.72 1.47 1.35L5.41 20z\"/>\n",
              "  </svg>\n",
              "      </button>\n",
              "      \n",
              "  <style>\n",
              "    .colab-df-container {\n",
              "      display:flex;\n",
              "      flex-wrap:wrap;\n",
              "      gap: 12px;\n",
              "    }\n",
              "\n",
              "    .colab-df-convert {\n",
              "      background-color: #E8F0FE;\n",
              "      border: none;\n",
              "      border-radius: 50%;\n",
              "      cursor: pointer;\n",
              "      display: none;\n",
              "      fill: #1967D2;\n",
              "      height: 32px;\n",
              "      padding: 0 0 0 0;\n",
              "      width: 32px;\n",
              "    }\n",
              "\n",
              "    .colab-df-convert:hover {\n",
              "      background-color: #E2EBFA;\n",
              "      box-shadow: 0px 1px 2px rgba(60, 64, 67, 0.3), 0px 1px 3px 1px rgba(60, 64, 67, 0.15);\n",
              "      fill: #174EA6;\n",
              "    }\n",
              "\n",
              "    [theme=dark] .colab-df-convert {\n",
              "      background-color: #3B4455;\n",
              "      fill: #D2E3FC;\n",
              "    }\n",
              "\n",
              "    [theme=dark] .colab-df-convert:hover {\n",
              "      background-color: #434B5C;\n",
              "      box-shadow: 0px 1px 3px 1px rgba(0, 0, 0, 0.15);\n",
              "      filter: drop-shadow(0px 1px 2px rgba(0, 0, 0, 0.3));\n",
              "      fill: #FFFFFF;\n",
              "    }\n",
              "  </style>\n",
              "\n",
              "      <script>\n",
              "        const buttonEl =\n",
              "          document.querySelector('#df-6d47fc0a-caee-4cf7-87be-c461767d9ca0 button.colab-df-convert');\n",
              "        buttonEl.style.display =\n",
              "          google.colab.kernel.accessAllowed ? 'block' : 'none';\n",
              "\n",
              "        async function convertToInteractive(key) {\n",
              "          const element = document.querySelector('#df-6d47fc0a-caee-4cf7-87be-c461767d9ca0');\n",
              "          const dataTable =\n",
              "            await google.colab.kernel.invokeFunction('convertToInteractive',\n",
              "                                                     [key], {});\n",
              "          if (!dataTable) return;\n",
              "\n",
              "          const docLinkHtml = 'Like what you see? Visit the ' +\n",
              "            '<a target=\"_blank\" href=https://colab.research.google.com/notebooks/data_table.ipynb>data table notebook</a>'\n",
              "            + ' to learn more about interactive tables.';\n",
              "          element.innerHTML = '';\n",
              "          dataTable['output_type'] = 'display_data';\n",
              "          await google.colab.output.renderOutput(dataTable, element);\n",
              "          const docLink = document.createElement('div');\n",
              "          docLink.innerHTML = docLinkHtml;\n",
              "          element.appendChild(docLink);\n",
              "        }\n",
              "      </script>\n",
              "    </div>\n",
              "  </div>\n",
              "  "
            ]
          },
          "metadata": {},
          "execution_count": 41
        }
      ]
    },
    {
      "cell_type": "code",
      "source": [
        "cnn_epochs = [1,2,3,4,5,6,7,8,9,10,11,12,13,14,15,16,17,18,19,20]"
      ],
      "metadata": {
        "id": "b5qPZW6CrcjM"
      },
      "execution_count": 42,
      "outputs": []
    },
    {
      "cell_type": "code",
      "source": [
        "# Plot 1.1: Accuracy ReLU 0.001\n",
        "plt.plot(cnn_epochs, model_accuracy_results['Net1_1'], label = 'SGD')\n",
        "plt.plot(cnn_epochs, model_accuracy_results['Net1_2'], label = 'ASGD')\n",
        "plt.plot(cnn_epochs, model_accuracy_results['Net1_3'], label = 'Adam')\n",
        "plt.plot(cnn_epochs, model_accuracy_results['Net1_4'], label = 'Adamax')\n",
        "\n",
        "plt.xlabel(\"Epochs\")\n",
        "plt.ylabel(\"Test Accuracy Score %\")\n",
        "plt.title(\"Test Accuracy of ReLU LR=0.001 on CIFAR-100\")\n",
        "plt.legend(loc=\"upper left\")\n",
        "plt.show()"
      ],
      "metadata": {
        "colab": {
          "base_uri": "https://localhost:8080/",
          "height": 295
        },
        "id": "9Fk9-Di0rS2r",
        "outputId": "ae0d02d0-0a8a-430b-c3f3-169d42875df5"
      },
      "execution_count": 43,
      "outputs": [
        {
          "output_type": "display_data",
          "data": {
            "text/plain": [
              "<Figure size 432x288 with 1 Axes>"
            ],
            "image/png": "[encoded data removed]"
          },
          "metadata": {
            "needs_background": "light"
          }
        }
      ]
    },
    {
      "cell_type": "code",
      "source": [
        "# Plot 1.2: Loss ReLU 0.001\n",
        "plt.plot(cnn_epochs, model_loss_results['Net1_1'], label = 'SGD')\n",
        "plt.plot(cnn_epochs, model_loss_results['Net1_2'], label = 'ASGD')\n",
        "plt.plot(cnn_epochs, model_loss_results['Net1_3'], label = 'Adam')\n",
        "plt.plot(cnn_epochs, model_loss_results['Net1_4'], label = 'Adamax')\n",
        "\n",
        "plt.xlabel(\"Epochs\")\n",
        "plt.ylabel(\"Loss\")\n",
        "plt.title(\"Test Loss of ReLU LR=0.001 on CIFAR-100\")\n",
        "plt.legend(loc=\"upper left\")\n",
        "plt.show()"
      ],
      "metadata": {
        "colab": {
          "base_uri": "https://localhost:8080/",
          "height": 295
        },
        "id": "Eof3blYOFwxE",
        "outputId": "92c7586b-46d5-4890-cf93-9ec124eb40cf"
      },
      "execution_count": 44,
      "outputs": [
        {
          "output_type": "display_data",
          "data": {
            "text/plain": [
              "<Figure size 432x288 with 1 Axes>"
            ],
            "image/png": "[encoded data removed]"
          },
          "metadata": {
            "needs_background": "light"
          }
        }
      ]
    },
    {
      "cell_type": "code",
      "source": [
        "# Plot 2.1: Accuracy ReLU 0.01\n",
        "plt.plot(cnn_epochs, model_accuracy_results['Net2_1'], label = 'SGD')\n",
        "plt.plot(cnn_epochs, model_accuracy_results['Net2_2'], label = 'ASGD')\n",
        "plt.plot(cnn_epochs, model_accuracy_results['Net2_3'], label = 'Adam')\n",
        "plt.plot(cnn_epochs, model_accuracy_results['Net2_4'], label = 'Adamax')\n",
        "\n",
        "plt.xlabel(\"Epochs\")\n",
        "plt.ylabel(\"Test Accuracy Score %\")\n",
        "plt.title(\"Test Accuracy of ReLU LR=0.01 on CIFAR-100\")\n",
        "plt.legend(loc=\"upper left\")\n",
        "plt.show()"
      ],
      "metadata": {
        "colab": {
          "base_uri": "https://localhost:8080/",
          "height": 295
        },
        "id": "F5deqrWnItcM",
        "outputId": "affe6fb2-bb69-48c1-f07a-ef19a575332e"
      },
      "execution_count": 19,
      "outputs": [
        {
          "output_type": "display_data",
          "data": {
            "text/plain": [
              "<Figure size 432x288 with 1 Axes>"
            ],
            "image/png": "[encoded data removed]"
          },
          "metadata": {
            "needs_background": "light"
          }
        }
      ]
    },
    {
      "cell_type": "code",
      "source": [
        "# Plot 2.2: Loss ReLU 0.01\n",
        "plt.plot(cnn_epochs, model_loss_results['Net2_1'], label = 'SGD')\n",
        "plt.plot(cnn_epochs, model_loss_results['Net2_2'], label = 'ASGD')\n",
        "plt.plot(cnn_epochs, model_loss_results['Net2_3'], label = 'Adam')\n",
        "plt.plot(cnn_epochs, model_loss_results['Net2_4'], label = 'Adamax')\n",
        "\n",
        "plt.xlabel(\"Epochs\")\n",
        "plt.ylabel(\"Loss\")\n",
        "plt.title(\"Test Loss of ReLU LR=0.01 on CIFAR-100\")\n",
        "plt.legend(loc=\"upper left\")\n",
        "plt.show()"
      ],
      "metadata": {
        "colab": {
          "base_uri": "https://localhost:8080/",
          "height": 295
        },
        "id": "MDsbe6GbJlUu",
        "outputId": "6d0a0d59-fc4b-4e50-d9a4-5140694d88cd"
      },
      "execution_count": 20,
      "outputs": [
        {
          "output_type": "display_data",
          "data": {
            "text/plain": [
              "<Figure size 432x288 with 1 Axes>"
            ],
            "image/png": "[encoded data removed]"
          },
          "metadata": {
            "needs_background": "light"
          }
        }
      ]
    },
    {
      "cell_type": "code",
      "source": [
        "# Plot 3.1: Accuracy Sigmoid 0.001\n",
        "plt.plot(cnn_epochs, model_accuracy_results['Net3_1'], label = 'SGD')\n",
        "plt.plot(cnn_epochs, model_accuracy_results['Net3_2'], label = 'ASGD')\n",
        "plt.plot(cnn_epochs, model_accuracy_results['Net3_3'], label = 'Adam')\n",
        "plt.plot(cnn_epochs, model_accuracy_results['Net3_4'], label = 'Adamax')\n",
        "\n",
        "plt.xlabel(\"Epochs\")\n",
        "plt.ylabel(\"Test Accuracy Score %\")\n",
        "plt.title(\"Test Accuracy of Sigmoid LR=0.001 on CIFAR-100\")\n",
        "plt.legend(loc=\"upper left\")\n",
        "plt.show()"
      ],
      "metadata": {
        "colab": {
          "base_uri": "https://localhost:8080/",
          "height": 295
        },
        "id": "0Ds4CqvcKZMU",
        "outputId": "3639a12d-de70-4856-e430-0ed6c397db92"
      },
      "execution_count": 21,
      "outputs": [
        {
          "output_type": "display_data",
          "data": {
            "text/plain": [
              "<Figure size 432x288 with 1 Axes>"
            ],
            "image/png": "[encoded data removed]"
          },
          "metadata": {
            "needs_background": "light"
          }
        }
      ]
    },
    {
      "cell_type": "code",
      "source": [
        "# Plot 3.2: Loss Sigmoid 0.001\n",
        "plt.plot(cnn_epochs, model_loss_results['Net3_1'], label = 'SGD')\n",
        "plt.plot(cnn_epochs, model_loss_results['Net3_2'], label = 'ASGD')\n",
        "plt.plot(cnn_epochs, model_loss_results['Net3_3'], label = 'Adam')\n",
        "plt.plot(cnn_epochs, model_loss_results['Net3_4'], label = 'Adamax')\n",
        "\n",
        "plt.xlabel(\"Epochs\")\n",
        "plt.ylabel(\"Loss\")\n",
        "plt.title(\"Test Loss of Sigmoid LR=0.001 on CIFAR-100\")\n",
        "plt.legend(loc=\"upper left\")\n",
        "plt.show()"
      ],
      "metadata": {
        "colab": {
          "base_uri": "https://localhost:8080/",
          "height": 295
        },
        "id": "sBAXu09dKZXe",
        "outputId": "099c8f19-6fec-47df-b9b3-505f6070734d"
      },
      "execution_count": 22,
      "outputs": [
        {
          "output_type": "display_data",
          "data": {
            "text/plain": [
              "<Figure size 432x288 with 1 Axes>"
            ],
            "image/png": "[encoded data removed]"
          },
          "metadata": {
            "needs_background": "light"
          }
        }
      ]
    },
    {
      "cell_type": "code",
      "source": [
        "# Plot 4.1: Accuracy Sigmoid 0.01\n",
        "plt.plot(cnn_epochs, model_accuracy_results['Net4_1'], label = 'SGD')\n",
        "plt.plot(cnn_epochs, model_accuracy_results['Net4_2'], label = 'ASGD')\n",
        "plt.plot(cnn_epochs, model_accuracy_results['Net4_3'], label = 'Adam')\n",
        "plt.plot(cnn_epochs, model_accuracy_results['Net4_4'], label = 'Adamax')\n",
        "\n",
        "plt.xlabel(\"Epochs\")\n",
        "plt.ylabel(\"Test Accuracy Score %\")\n",
        "plt.title(\"Test Accuracy of Sigmoid LR=0.01 on CIFAR-100\")\n",
        "plt.legend(loc=\"upper left\")\n",
        "plt.show()"
      ],
      "metadata": {
        "colab": {
          "base_uri": "https://localhost:8080/",
          "height": 295
        },
        "id": "fqEvWRBUKvwN",
        "outputId": "09210a84-f152-4926-d170-bd16156774e0"
      },
      "execution_count": 23,
      "outputs": [
        {
          "output_type": "display_data",
          "data": {
            "text/plain": [
              "<Figure size 432x288 with 1 Axes>"
            ],
            "image/png": "[encoded data removed]"
          },
          "metadata": {
            "needs_background": "light"
          }
        }
      ]
    },
    {
      "cell_type": "code",
      "source": [
        "# Plot 4.2: Loss Sigmoid 0.01\n",
        "plt.plot(cnn_epochs, model_loss_results['Net4_1'], label = 'SGD')\n",
        "plt.plot(cnn_epochs, model_loss_results['Net4_2'], label = 'ASGD')\n",
        "plt.plot(cnn_epochs, model_loss_results['Net4_3'], label = 'Adam')\n",
        "plt.plot(cnn_epochs, model_loss_results['Net4_4'], label = 'Adamax')\n",
        "\n",
        "plt.xlabel(\"Epochs\")\n",
        "plt.ylabel(\"Loss\")\n",
        "plt.title(\"Test Loss of Sigmoid LR=0.01 on CIFAR-100\")\n",
        "plt.legend(loc=\"upper left\")\n",
        "plt.show()"
      ],
      "metadata": {
        "colab": {
          "base_uri": "https://localhost:8080/",
          "height": 295
        },
        "id": "8mbqcBdGKv4y",
        "outputId": "aa27bcce-31f5-4e4a-a444-9e11bc24f06f"
      },
      "execution_count": 24,
      "outputs": [
        {
          "output_type": "display_data",
          "data": {
            "text/plain": [
              "<Figure size 432x288 with 1 Axes>"
            ],
            "image/png": "[encoded data removed]"
          },
          "metadata": {
            "needs_background": "light"
          }
        }
      ]
    },
    {
      "cell_type": "code",
      "source": [
        "# Plot 5.1: SGD Accuracy\n",
        "plt.plot(cnn_epochs, model_accuracy_results['Net1_1'], label = 'ReLU LR 0.001')\n",
        "plt.plot(cnn_epochs, model_accuracy_results['Net2_1'], label = 'ReLU LR 0.01')\n",
        "plt.plot(cnn_epochs, model_accuracy_results['Net3_1'], label = 'Sigmoid LR 0.001')\n",
        "plt.plot(cnn_epochs, model_accuracy_results['Net4_1'], label = 'Sigmoid LR 0.01')\n",
        "\n",
        "plt.xlabel(\"Epochs\")\n",
        "plt.ylabel(\"Test Accuracy Score %\")\n",
        "plt.title(\"Test Accuracy of SGD on CIFAR-100\")\n",
        "plt.legend(loc=\"upper left\")\n",
        "plt.show()"
      ],
      "metadata": {
        "colab": {
          "base_uri": "https://localhost:8080/",
          "height": 295
        },
        "id": "0ZkUtWb4LC0o",
        "outputId": "f9cef93c-aa42-488a-ac72-938efe0e887d"
      },
      "execution_count": 25,
      "outputs": [
        {
          "output_type": "display_data",
          "data": {
            "text/plain": [
              "<Figure size 432x288 with 1 Axes>"
            ],
            "image/png": "[encoded data removed]"
          },
          "metadata": {
            "needs_background": "light"
          }
        }
      ]
    },
    {
      "cell_type": "code",
      "source": [
        "# Plot 5.2: SGD Loss\n",
        "plt.plot(cnn_epochs, model_loss_results['Net1_1'], label = 'ReLU LR 0.001')\n",
        "plt.plot(cnn_epochs, model_loss_results['Net2_1'], label = 'ReLU LR 0.01')\n",
        "plt.plot(cnn_epochs, model_loss_results['Net3_1'], label = 'Sigmoid LR 0.001')\n",
        "plt.plot(cnn_epochs, model_loss_results['Net4_1'], label = 'Sigmoid LR 0.01')\n",
        "\n",
        "plt.xlabel(\"Epochs\")\n",
        "plt.ylabel(\"Loss\")\n",
        "plt.title(\"Test Loss of SGD on CIFAR-100\")\n",
        "plt.legend(loc=\"upper left\")\n",
        "plt.show()"
      ],
      "metadata": {
        "colab": {
          "base_uri": "https://localhost:8080/",
          "height": 295
        },
        "id": "0wXf27kpVhKR",
        "outputId": "5075d375-95fc-4992-9ebe-f46eddc1cb93"
      },
      "execution_count": 26,
      "outputs": [
        {
          "output_type": "display_data",
          "data": {
            "text/plain": [
              "<Figure size 432x288 with 1 Axes>"
            ],
            "image/png": "[encoded data removed]"
          },
          "metadata": {
            "needs_background": "light"
          }
        }
      ]
    },
    {
      "cell_type": "code",
      "source": [
        "# Plot 6.1: ASGD Accuracy\n",
        "plt.plot(cnn_epochs, model_accuracy_results['Net1_2'], label = 'ReLU LR 0.001')\n",
        "plt.plot(cnn_epochs, model_accuracy_results['Net2_2'], label = 'ReLU LR 0.01')\n",
        "plt.plot(cnn_epochs, model_accuracy_results['Net3_2'], label = 'Sigmoid LR 0.001')\n",
        "plt.plot(cnn_epochs, model_accuracy_results['Net4_2'], label = 'Sigmoid LR 0.01')\n",
        "\n",
        "plt.xlabel(\"Epochs\")\n",
        "plt.ylabel(\"Test Accuracy Score %\")\n",
        "plt.title(\"Test Accuracy of ASGD on CIFAR-100\")\n",
        "plt.legend(loc=\"upper left\")\n",
        "plt.show()"
      ],
      "metadata": {
        "colab": {
          "base_uri": "https://localhost:8080/",
          "height": 295
        },
        "id": "6TetIfPKLC8k",
        "outputId": "9de7f330-9c14-496c-eb51-357ff3e228c6"
      },
      "execution_count": 45,
      "outputs": [
        {
          "output_type": "display_data",
          "data": {
            "text/plain": [
              "<Figure size 432x288 with 1 Axes>"
            ],
            "image/png": "[encoded data removed]"
          },
          "metadata": {
            "needs_background": "light"
          }
        }
      ]
    },
    {
      "cell_type": "code",
      "source": [
        "# Plot 6.2: ASGD Loss\n",
        "plt.plot(cnn_epochs, model_loss_results['Net1_2'], label = 'ReLU LR 0.001')\n",
        "plt.plot(cnn_epochs, model_loss_results['Net2_2'], label = 'ReLU LR 0.01')\n",
        "plt.plot(cnn_epochs, model_loss_results['Net3_2'], label = 'Sigmoid LR 0.001')\n",
        "plt.plot(cnn_epochs, model_loss_results['Net4_2'], label = 'Sigmoid LR 0.01')\n",
        "\n",
        "plt.xlabel(\"Epochs\")\n",
        "plt.ylabel(\"Loss\")\n",
        "plt.title(\"Test Loss of ASGD on CIFAR-100\")\n",
        "plt.legend(loc=\"upper left\")\n",
        "plt.show()"
      ],
      "metadata": {
        "colab": {
          "base_uri": "https://localhost:8080/",
          "height": 295
        },
        "id": "R0BYM6zRVh0y",
        "outputId": "e51f6a3c-a325-4834-9de4-c9ee266bb6eb"
      },
      "execution_count": 46,
      "outputs": [
        {
          "output_type": "display_data",
          "data": {
            "text/plain": [
              "<Figure size 432x288 with 1 Axes>"
            ],
            "image/png": "[encoded data removed]"
          },
          "metadata": {
            "needs_background": "light"
          }
        }
      ]
    },
    {
      "cell_type": "code",
      "source": [
        "# Plot 7.1: Adam Accuracy\n",
        "plt.plot(cnn_epochs, model_accuracy_results['Net1_3'], label = 'ReLU LR 0.001')\n",
        "plt.plot(cnn_epochs, model_accuracy_results['Net2_3'], label = 'ReLU LR 0.01')\n",
        "plt.plot(cnn_epochs, model_accuracy_results['Net3_3'], label = 'Sigmoid LR 0.001')\n",
        "plt.plot(cnn_epochs, model_accuracy_results['Net4_3'], label = 'Sigmoid LR 0.01')\n",
        "\n",
        "plt.xlabel(\"Epochs\")\n",
        "plt.ylabel(\"Test Accuracy Score %\")\n",
        "plt.title(\"Test Accuracy of Adam on CIFAR-100\")\n",
        "plt.legend(loc=\"upper left\")\n",
        "plt.show()"
      ],
      "metadata": {
        "colab": {
          "base_uri": "https://localhost:8080/",
          "height": 295
        },
        "id": "8YeoLMo9LDCl",
        "outputId": "dc0d4b6e-ad8e-454b-9ff2-d96ddd7aad10"
      },
      "execution_count": 47,
      "outputs": [
        {
          "output_type": "display_data",
          "data": {
            "text/plain": [
              "<Figure size 432x288 with 1 Axes>"
            ],
            "image/png": "[encoded data removed]"
          },
          "metadata": {
            "needs_background": "light"
          }
        }
      ]
    },
    {
      "cell_type": "code",
      "source": [
        "# Plot 7.2: Adam Loss\n",
        "plt.plot(cnn_epochs, model_loss_results['Net1_3'], label = 'ReLU LR 0.001')\n",
        "plt.plot(cnn_epochs, model_loss_results['Net2_3'], label = 'ReLU LR 0.01')\n",
        "plt.plot(cnn_epochs, model_loss_results['Net3_3'], label = 'Sigmoid LR 0.001')\n",
        "plt.plot(cnn_epochs, model_loss_results['Net4_3'], label = 'Sigmoid LR 0.01')\n",
        "\n",
        "plt.xlabel(\"Epochs\")\n",
        "plt.ylabel(\"Loss\")\n",
        "plt.title(\"Test Loss of Adam on CIFAR-100\")\n",
        "plt.legend(loc=\"upper left\")\n",
        "plt.show()"
      ],
      "metadata": {
        "colab": {
          "base_uri": "https://localhost:8080/",
          "height": 295
        },
        "id": "bQDrAmfnViXb",
        "outputId": "ccd52b15-b38e-4e2b-c699-dc4ea4496a47"
      },
      "execution_count": 48,
      "outputs": [
        {
          "output_type": "display_data",
          "data": {
            "text/plain": [
              "<Figure size 432x288 with 1 Axes>"
            ],
            "image/png": "[encoded data removed]"
          },
          "metadata": {
            "needs_background": "light"
          }
        }
      ]
    },
    {
      "cell_type": "code",
      "source": [
        "# Plot 8.1: Adamax Accuracy\n",
        "plt.plot(cnn_epochs, model_accuracy_results['Net1_4'], label = 'ReLU LR 0.001')\n",
        "plt.plot(cnn_epochs, model_accuracy_results['Net2_4'], label = 'ReLU LR 0.01')\n",
        "plt.plot(cnn_epochs, model_accuracy_results['Net3_4'], label = 'Sigmoid LR 0.001')\n",
        "plt.plot(cnn_epochs, model_accuracy_results['Net4_4'], label = 'Sigmoid LR 0.01')\n",
        "\n",
        "plt.xlabel(\"Epochs\")\n",
        "plt.ylabel(\"Test Accuracy Score %\")\n",
        "plt.title(\"Test Accuracy of Adamax on CIFAR-100\")\n",
        "plt.legend(loc=\"upper left\")\n",
        "plt.show()"
      ],
      "metadata": {
        "colab": {
          "base_uri": "https://localhost:8080/",
          "height": 295
        },
        "id": "8d5t0Nq4LDH-",
        "outputId": "860bb2a4-8c56-4a1b-fc7f-450ac9be371d"
      },
      "execution_count": 49,
      "outputs": [
        {
          "output_type": "display_data",
          "data": {
            "text/plain": [
              "<Figure size 432x288 with 1 Axes>"
            ],
            "image/png": "[encoded data removed]"
          },
          "metadata": {
            "needs_background": "light"
          }
        }
      ]
    },
    {
      "cell_type": "code",
      "source": [
        "# Plot 8.2: Adamax Loss\n",
        "plt.plot(cnn_epochs, model_loss_results['Net1_4'], label = 'ReLU LR 0.001')\n",
        "plt.plot(cnn_epochs, model_loss_results['Net2_4'], label = 'ReLU LR 0.01')\n",
        "plt.plot(cnn_epochs, model_loss_results['Net3_4'], label = 'Sigmoid LR 0.001')\n",
        "plt.plot(cnn_epochs, model_loss_results['Net4_4'], label = 'Sigmoid LR 0.01')\n",
        "\n",
        "plt.xlabel(\"Epochs\")\n",
        "plt.ylabel(\"Loss\")\n",
        "plt.title(\"Test Loss of Adamax on CIFAR-100\")\n",
        "plt.legend(loc=\"upper left\")\n",
        "plt.show()"
      ],
      "metadata": {
        "colab": {
          "base_uri": "https://localhost:8080/",
          "height": 295
        },
        "id": "8q8lu0NzVi3Y",
        "outputId": "8ebaefb5-40bd-4068-f5b5-d0067d769547"
      },
      "execution_count": 50,
      "outputs": [
        {
          "output_type": "display_data",
          "data": {
            "text/plain": [
              "<Figure size 432x288 with 1 Axes>"
            ],
            "image/png": "[encoded data removed]"
          },
          "metadata": {
            "needs_background": "light"
          }
        }
      ]
    }
  ]
}